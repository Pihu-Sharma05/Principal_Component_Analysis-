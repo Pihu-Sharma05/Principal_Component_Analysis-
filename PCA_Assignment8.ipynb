{
  "nbformat": 4,
  "nbformat_minor": 0,
  "metadata": {
    "colab": {
      "provenance": []
    },
    "kernelspec": {
      "name": "python3",
      "display_name": "Python 3"
    },
    "language_info": {
      "name": "python"
    }
  },
  "cells": [
    {
      "cell_type": "markdown",
      "source": [
        "**Perform Principal component analysis and perform clustering using first 3 principal component scores (both heirarchial and k mean clustering(scree plot or elbow curve) and obtain optimum number of clusters and check whether we have obtained same number of clusters with the original data**"
      ],
      "metadata": {
        "id": "ir9IG-KZtbd_"
      }
    },
    {
      "cell_type": "code",
      "source": [
        "# Importing necessary libraries\n",
        "import pandas as pd\n",
        "import numpy as np\n",
        "import matplotlib.pyplot as plt\n",
        "import seaborn as sns \n",
        "\n",
        "from sklearn.decomposition import PCA\n",
        "from sklearn.preprocessing import StandardScaler,  MinMaxScaler"
      ],
      "metadata": {
        "id": "9gfkOxig9rct"
      },
      "execution_count": 1,
      "outputs": []
    },
    {
      "cell_type": "code",
      "source": [
        "wine = pd.read_csv('/content/wine (1).csv') \n",
        "wine.head()"
      ],
      "metadata": {
        "id": "l773WxBg9rYM",
        "colab": {
          "base_uri": "https://localhost:8080/",
          "height": 270
        },
        "outputId": "9909cda3-de1a-4a81-d2d4-6fe3c2a5c18c"
      },
      "execution_count": 4,
      "outputs": [
        {
          "output_type": "execute_result",
          "data": {
            "text/plain": [
              "   Type  Alcohol  Malic   Ash  Alcalinity  Magnesium  Phenols  Flavanoids  \\\n",
              "0     1    14.23   1.71  2.43        15.6        127     2.80        3.06   \n",
              "1     1    13.20   1.78  2.14        11.2        100     2.65        2.76   \n",
              "2     1    13.16   2.36  2.67        18.6        101     2.80        3.24   \n",
              "3     1    14.37   1.95  2.50        16.8        113     3.85        3.49   \n",
              "4     1    13.24   2.59  2.87        21.0        118     2.80        2.69   \n",
              "\n",
              "   Nonflavanoids  Proanthocyanins  Color   Hue  Dilution  Proline  \n",
              "0           0.28             2.29   5.64  1.04      3.92     1065  \n",
              "1           0.26             1.28   4.38  1.05      3.40     1050  \n",
              "2           0.30             2.81   5.68  1.03      3.17     1185  \n",
              "3           0.24             2.18   7.80  0.86      3.45     1480  \n",
              "4           0.39             1.82   4.32  1.04      2.93      735  "
            ],
            "text/html": [
              "\n",
              "  <div id=\"df-fbddbcc4-269d-45af-9416-8269bfabf9e7\">\n",
              "    <div class=\"colab-df-container\">\n",
              "      <div>\n",
              "<style scoped>\n",
              "    .dataframe tbody tr th:only-of-type {\n",
              "        vertical-align: middle;\n",
              "    }\n",
              "\n",
              "    .dataframe tbody tr th {\n",
              "        vertical-align: top;\n",
              "    }\n",
              "\n",
              "    .dataframe thead th {\n",
              "        text-align: right;\n",
              "    }\n",
              "</style>\n",
              "<table border=\"1\" class=\"dataframe\">\n",
              "  <thead>\n",
              "    <tr style=\"text-align: right;\">\n",
              "      <th></th>\n",
              "      <th>Type</th>\n",
              "      <th>Alcohol</th>\n",
              "      <th>Malic</th>\n",
              "      <th>Ash</th>\n",
              "      <th>Alcalinity</th>\n",
              "      <th>Magnesium</th>\n",
              "      <th>Phenols</th>\n",
              "      <th>Flavanoids</th>\n",
              "      <th>Nonflavanoids</th>\n",
              "      <th>Proanthocyanins</th>\n",
              "      <th>Color</th>\n",
              "      <th>Hue</th>\n",
              "      <th>Dilution</th>\n",
              "      <th>Proline</th>\n",
              "    </tr>\n",
              "  </thead>\n",
              "  <tbody>\n",
              "    <tr>\n",
              "      <th>0</th>\n",
              "      <td>1</td>\n",
              "      <td>14.23</td>\n",
              "      <td>1.71</td>\n",
              "      <td>2.43</td>\n",
              "      <td>15.6</td>\n",
              "      <td>127</td>\n",
              "      <td>2.80</td>\n",
              "      <td>3.06</td>\n",
              "      <td>0.28</td>\n",
              "      <td>2.29</td>\n",
              "      <td>5.64</td>\n",
              "      <td>1.04</td>\n",
              "      <td>3.92</td>\n",
              "      <td>1065</td>\n",
              "    </tr>\n",
              "    <tr>\n",
              "      <th>1</th>\n",
              "      <td>1</td>\n",
              "      <td>13.20</td>\n",
              "      <td>1.78</td>\n",
              "      <td>2.14</td>\n",
              "      <td>11.2</td>\n",
              "      <td>100</td>\n",
              "      <td>2.65</td>\n",
              "      <td>2.76</td>\n",
              "      <td>0.26</td>\n",
              "      <td>1.28</td>\n",
              "      <td>4.38</td>\n",
              "      <td>1.05</td>\n",
              "      <td>3.40</td>\n",
              "      <td>1050</td>\n",
              "    </tr>\n",
              "    <tr>\n",
              "      <th>2</th>\n",
              "      <td>1</td>\n",
              "      <td>13.16</td>\n",
              "      <td>2.36</td>\n",
              "      <td>2.67</td>\n",
              "      <td>18.6</td>\n",
              "      <td>101</td>\n",
              "      <td>2.80</td>\n",
              "      <td>3.24</td>\n",
              "      <td>0.30</td>\n",
              "      <td>2.81</td>\n",
              "      <td>5.68</td>\n",
              "      <td>1.03</td>\n",
              "      <td>3.17</td>\n",
              "      <td>1185</td>\n",
              "    </tr>\n",
              "    <tr>\n",
              "      <th>3</th>\n",
              "      <td>1</td>\n",
              "      <td>14.37</td>\n",
              "      <td>1.95</td>\n",
              "      <td>2.50</td>\n",
              "      <td>16.8</td>\n",
              "      <td>113</td>\n",
              "      <td>3.85</td>\n",
              "      <td>3.49</td>\n",
              "      <td>0.24</td>\n",
              "      <td>2.18</td>\n",
              "      <td>7.80</td>\n",
              "      <td>0.86</td>\n",
              "      <td>3.45</td>\n",
              "      <td>1480</td>\n",
              "    </tr>\n",
              "    <tr>\n",
              "      <th>4</th>\n",
              "      <td>1</td>\n",
              "      <td>13.24</td>\n",
              "      <td>2.59</td>\n",
              "      <td>2.87</td>\n",
              "      <td>21.0</td>\n",
              "      <td>118</td>\n",
              "      <td>2.80</td>\n",
              "      <td>2.69</td>\n",
              "      <td>0.39</td>\n",
              "      <td>1.82</td>\n",
              "      <td>4.32</td>\n",
              "      <td>1.04</td>\n",
              "      <td>2.93</td>\n",
              "      <td>735</td>\n",
              "    </tr>\n",
              "  </tbody>\n",
              "</table>\n",
              "</div>\n",
              "      <button class=\"colab-df-convert\" onclick=\"convertToInteractive('df-fbddbcc4-269d-45af-9416-8269bfabf9e7')\"\n",
              "              title=\"Convert this dataframe to an interactive table.\"\n",
              "              style=\"display:none;\">\n",
              "        \n",
              "  <svg xmlns=\"http://www.w3.org/2000/svg\" height=\"24px\"viewBox=\"0 0 24 24\"\n",
              "       width=\"24px\">\n",
              "    <path d=\"M0 0h24v24H0V0z\" fill=\"none\"/>\n",
              "    <path d=\"M18.56 5.44l.94 2.06.94-2.06 2.06-.94-2.06-.94-.94-2.06-.94 2.06-2.06.94zm-11 1L8.5 8.5l.94-2.06 2.06-.94-2.06-.94L8.5 2.5l-.94 2.06-2.06.94zm10 10l.94 2.06.94-2.06 2.06-.94-2.06-.94-.94-2.06-.94 2.06-2.06.94z\"/><path d=\"M17.41 7.96l-1.37-1.37c-.4-.4-.92-.59-1.43-.59-.52 0-1.04.2-1.43.59L10.3 9.45l-7.72 7.72c-.78.78-.78 2.05 0 2.83L4 21.41c.39.39.9.59 1.41.59.51 0 1.02-.2 1.41-.59l7.78-7.78 2.81-2.81c.8-.78.8-2.07 0-2.86zM5.41 20L4 18.59l7.72-7.72 1.47 1.35L5.41 20z\"/>\n",
              "  </svg>\n",
              "      </button>\n",
              "      \n",
              "  <style>\n",
              "    .colab-df-container {\n",
              "      display:flex;\n",
              "      flex-wrap:wrap;\n",
              "      gap: 12px;\n",
              "    }\n",
              "\n",
              "    .colab-df-convert {\n",
              "      background-color: #E8F0FE;\n",
              "      border: none;\n",
              "      border-radius: 50%;\n",
              "      cursor: pointer;\n",
              "      display: none;\n",
              "      fill: #1967D2;\n",
              "      height: 32px;\n",
              "      padding: 0 0 0 0;\n",
              "      width: 32px;\n",
              "    }\n",
              "\n",
              "    .colab-df-convert:hover {\n",
              "      background-color: #E2EBFA;\n",
              "      box-shadow: 0px 1px 2px rgba(60, 64, 67, 0.3), 0px 1px 3px 1px rgba(60, 64, 67, 0.15);\n",
              "      fill: #174EA6;\n",
              "    }\n",
              "\n",
              "    [theme=dark] .colab-df-convert {\n",
              "      background-color: #3B4455;\n",
              "      fill: #D2E3FC;\n",
              "    }\n",
              "\n",
              "    [theme=dark] .colab-df-convert:hover {\n",
              "      background-color: #434B5C;\n",
              "      box-shadow: 0px 1px 3px 1px rgba(0, 0, 0, 0.15);\n",
              "      filter: drop-shadow(0px 1px 2px rgba(0, 0, 0, 0.3));\n",
              "      fill: #FFFFFF;\n",
              "    }\n",
              "  </style>\n",
              "\n",
              "      <script>\n",
              "        const buttonEl =\n",
              "          document.querySelector('#df-fbddbcc4-269d-45af-9416-8269bfabf9e7 button.colab-df-convert');\n",
              "        buttonEl.style.display =\n",
              "          google.colab.kernel.accessAllowed ? 'block' : 'none';\n",
              "\n",
              "        async function convertToInteractive(key) {\n",
              "          const element = document.querySelector('#df-fbddbcc4-269d-45af-9416-8269bfabf9e7');\n",
              "          const dataTable =\n",
              "            await google.colab.kernel.invokeFunction('convertToInteractive',\n",
              "                                                     [key], {});\n",
              "          if (!dataTable) return;\n",
              "\n",
              "          const docLinkHtml = 'Like what you see? Visit the ' +\n",
              "            '<a target=\"_blank\" href=https://colab.research.google.com/notebooks/data_table.ipynb>data table notebook</a>'\n",
              "            + ' to learn more about interactive tables.';\n",
              "          element.innerHTML = '';\n",
              "          dataTable['output_type'] = 'display_data';\n",
              "          await google.colab.output.renderOutput(dataTable, element);\n",
              "          const docLink = document.createElement('div');\n",
              "          docLink.innerHTML = docLinkHtml;\n",
              "          element.appendChild(docLink);\n",
              "        }\n",
              "      </script>\n",
              "    </div>\n",
              "  </div>\n",
              "  "
            ]
          },
          "metadata": {},
          "execution_count": 4
        }
      ]
    },
    {
      "cell_type": "markdown",
      "source": [
        "We need to find out by our analysis how many no.s of clusters are present. But 'Type' column already indicates that there are 3 clusters of wines. So we drop 'Type' column so that it will not interfere in our analysis."
      ],
      "metadata": {
        "id": "UECeAy8Wui1Q"
      }
    },
    {
      "cell_type": "code",
      "source": [
        "wine = wine.drop('Type', axis=1)\n",
        "wine.head()"
      ],
      "metadata": {
        "id": "gHh85vc_9rU9",
        "colab": {
          "base_uri": "https://localhost:8080/",
          "height": 270
        },
        "outputId": "136f80d5-ff6b-4c45-9db4-4ce26bbc78ae"
      },
      "execution_count": 5,
      "outputs": [
        {
          "output_type": "execute_result",
          "data": {
            "text/plain": [
              "   Alcohol  Malic   Ash  Alcalinity  Magnesium  Phenols  Flavanoids  \\\n",
              "0    14.23   1.71  2.43        15.6        127     2.80        3.06   \n",
              "1    13.20   1.78  2.14        11.2        100     2.65        2.76   \n",
              "2    13.16   2.36  2.67        18.6        101     2.80        3.24   \n",
              "3    14.37   1.95  2.50        16.8        113     3.85        3.49   \n",
              "4    13.24   2.59  2.87        21.0        118     2.80        2.69   \n",
              "\n",
              "   Nonflavanoids  Proanthocyanins  Color   Hue  Dilution  Proline  \n",
              "0           0.28             2.29   5.64  1.04      3.92     1065  \n",
              "1           0.26             1.28   4.38  1.05      3.40     1050  \n",
              "2           0.30             2.81   5.68  1.03      3.17     1185  \n",
              "3           0.24             2.18   7.80  0.86      3.45     1480  \n",
              "4           0.39             1.82   4.32  1.04      2.93      735  "
            ],
            "text/html": [
              "\n",
              "  <div id=\"df-51a26109-532f-479a-8c1a-18dcc0738cc4\">\n",
              "    <div class=\"colab-df-container\">\n",
              "      <div>\n",
              "<style scoped>\n",
              "    .dataframe tbody tr th:only-of-type {\n",
              "        vertical-align: middle;\n",
              "    }\n",
              "\n",
              "    .dataframe tbody tr th {\n",
              "        vertical-align: top;\n",
              "    }\n",
              "\n",
              "    .dataframe thead th {\n",
              "        text-align: right;\n",
              "    }\n",
              "</style>\n",
              "<table border=\"1\" class=\"dataframe\">\n",
              "  <thead>\n",
              "    <tr style=\"text-align: right;\">\n",
              "      <th></th>\n",
              "      <th>Alcohol</th>\n",
              "      <th>Malic</th>\n",
              "      <th>Ash</th>\n",
              "      <th>Alcalinity</th>\n",
              "      <th>Magnesium</th>\n",
              "      <th>Phenols</th>\n",
              "      <th>Flavanoids</th>\n",
              "      <th>Nonflavanoids</th>\n",
              "      <th>Proanthocyanins</th>\n",
              "      <th>Color</th>\n",
              "      <th>Hue</th>\n",
              "      <th>Dilution</th>\n",
              "      <th>Proline</th>\n",
              "    </tr>\n",
              "  </thead>\n",
              "  <tbody>\n",
              "    <tr>\n",
              "      <th>0</th>\n",
              "      <td>14.23</td>\n",
              "      <td>1.71</td>\n",
              "      <td>2.43</td>\n",
              "      <td>15.6</td>\n",
              "      <td>127</td>\n",
              "      <td>2.80</td>\n",
              "      <td>3.06</td>\n",
              "      <td>0.28</td>\n",
              "      <td>2.29</td>\n",
              "      <td>5.64</td>\n",
              "      <td>1.04</td>\n",
              "      <td>3.92</td>\n",
              "      <td>1065</td>\n",
              "    </tr>\n",
              "    <tr>\n",
              "      <th>1</th>\n",
              "      <td>13.20</td>\n",
              "      <td>1.78</td>\n",
              "      <td>2.14</td>\n",
              "      <td>11.2</td>\n",
              "      <td>100</td>\n",
              "      <td>2.65</td>\n",
              "      <td>2.76</td>\n",
              "      <td>0.26</td>\n",
              "      <td>1.28</td>\n",
              "      <td>4.38</td>\n",
              "      <td>1.05</td>\n",
              "      <td>3.40</td>\n",
              "      <td>1050</td>\n",
              "    </tr>\n",
              "    <tr>\n",
              "      <th>2</th>\n",
              "      <td>13.16</td>\n",
              "      <td>2.36</td>\n",
              "      <td>2.67</td>\n",
              "      <td>18.6</td>\n",
              "      <td>101</td>\n",
              "      <td>2.80</td>\n",
              "      <td>3.24</td>\n",
              "      <td>0.30</td>\n",
              "      <td>2.81</td>\n",
              "      <td>5.68</td>\n",
              "      <td>1.03</td>\n",
              "      <td>3.17</td>\n",
              "      <td>1185</td>\n",
              "    </tr>\n",
              "    <tr>\n",
              "      <th>3</th>\n",
              "      <td>14.37</td>\n",
              "      <td>1.95</td>\n",
              "      <td>2.50</td>\n",
              "      <td>16.8</td>\n",
              "      <td>113</td>\n",
              "      <td>3.85</td>\n",
              "      <td>3.49</td>\n",
              "      <td>0.24</td>\n",
              "      <td>2.18</td>\n",
              "      <td>7.80</td>\n",
              "      <td>0.86</td>\n",
              "      <td>3.45</td>\n",
              "      <td>1480</td>\n",
              "    </tr>\n",
              "    <tr>\n",
              "      <th>4</th>\n",
              "      <td>13.24</td>\n",
              "      <td>2.59</td>\n",
              "      <td>2.87</td>\n",
              "      <td>21.0</td>\n",
              "      <td>118</td>\n",
              "      <td>2.80</td>\n",
              "      <td>2.69</td>\n",
              "      <td>0.39</td>\n",
              "      <td>1.82</td>\n",
              "      <td>4.32</td>\n",
              "      <td>1.04</td>\n",
              "      <td>2.93</td>\n",
              "      <td>735</td>\n",
              "    </tr>\n",
              "  </tbody>\n",
              "</table>\n",
              "</div>\n",
              "      <button class=\"colab-df-convert\" onclick=\"convertToInteractive('df-51a26109-532f-479a-8c1a-18dcc0738cc4')\"\n",
              "              title=\"Convert this dataframe to an interactive table.\"\n",
              "              style=\"display:none;\">\n",
              "        \n",
              "  <svg xmlns=\"http://www.w3.org/2000/svg\" height=\"24px\"viewBox=\"0 0 24 24\"\n",
              "       width=\"24px\">\n",
              "    <path d=\"M0 0h24v24H0V0z\" fill=\"none\"/>\n",
              "    <path d=\"M18.56 5.44l.94 2.06.94-2.06 2.06-.94-2.06-.94-.94-2.06-.94 2.06-2.06.94zm-11 1L8.5 8.5l.94-2.06 2.06-.94-2.06-.94L8.5 2.5l-.94 2.06-2.06.94zm10 10l.94 2.06.94-2.06 2.06-.94-2.06-.94-.94-2.06-.94 2.06-2.06.94z\"/><path d=\"M17.41 7.96l-1.37-1.37c-.4-.4-.92-.59-1.43-.59-.52 0-1.04.2-1.43.59L10.3 9.45l-7.72 7.72c-.78.78-.78 2.05 0 2.83L4 21.41c.39.39.9.59 1.41.59.51 0 1.02-.2 1.41-.59l7.78-7.78 2.81-2.81c.8-.78.8-2.07 0-2.86zM5.41 20L4 18.59l7.72-7.72 1.47 1.35L5.41 20z\"/>\n",
              "  </svg>\n",
              "      </button>\n",
              "      \n",
              "  <style>\n",
              "    .colab-df-container {\n",
              "      display:flex;\n",
              "      flex-wrap:wrap;\n",
              "      gap: 12px;\n",
              "    }\n",
              "\n",
              "    .colab-df-convert {\n",
              "      background-color: #E8F0FE;\n",
              "      border: none;\n",
              "      border-radius: 50%;\n",
              "      cursor: pointer;\n",
              "      display: none;\n",
              "      fill: #1967D2;\n",
              "      height: 32px;\n",
              "      padding: 0 0 0 0;\n",
              "      width: 32px;\n",
              "    }\n",
              "\n",
              "    .colab-df-convert:hover {\n",
              "      background-color: #E2EBFA;\n",
              "      box-shadow: 0px 1px 2px rgba(60, 64, 67, 0.3), 0px 1px 3px 1px rgba(60, 64, 67, 0.15);\n",
              "      fill: #174EA6;\n",
              "    }\n",
              "\n",
              "    [theme=dark] .colab-df-convert {\n",
              "      background-color: #3B4455;\n",
              "      fill: #D2E3FC;\n",
              "    }\n",
              "\n",
              "    [theme=dark] .colab-df-convert:hover {\n",
              "      background-color: #434B5C;\n",
              "      box-shadow: 0px 1px 3px 1px rgba(0, 0, 0, 0.15);\n",
              "      filter: drop-shadow(0px 1px 2px rgba(0, 0, 0, 0.3));\n",
              "      fill: #FFFFFF;\n",
              "    }\n",
              "  </style>\n",
              "\n",
              "      <script>\n",
              "        const buttonEl =\n",
              "          document.querySelector('#df-51a26109-532f-479a-8c1a-18dcc0738cc4 button.colab-df-convert');\n",
              "        buttonEl.style.display =\n",
              "          google.colab.kernel.accessAllowed ? 'block' : 'none';\n",
              "\n",
              "        async function convertToInteractive(key) {\n",
              "          const element = document.querySelector('#df-51a26109-532f-479a-8c1a-18dcc0738cc4');\n",
              "          const dataTable =\n",
              "            await google.colab.kernel.invokeFunction('convertToInteractive',\n",
              "                                                     [key], {});\n",
              "          if (!dataTable) return;\n",
              "\n",
              "          const docLinkHtml = 'Like what you see? Visit the ' +\n",
              "            '<a target=\"_blank\" href=https://colab.research.google.com/notebooks/data_table.ipynb>data table notebook</a>'\n",
              "            + ' to learn more about interactive tables.';\n",
              "          element.innerHTML = '';\n",
              "          dataTable['output_type'] = 'display_data';\n",
              "          await google.colab.output.renderOutput(dataTable, element);\n",
              "          const docLink = document.createElement('div');\n",
              "          docLink.innerHTML = docLinkHtml;\n",
              "          element.appendChild(docLink);\n",
              "        }\n",
              "      </script>\n",
              "    </div>\n",
              "  </div>\n",
              "  "
            ]
          },
          "metadata": {},
          "execution_count": 5
        }
      ]
    },
    {
      "cell_type": "code",
      "source": [
        "wine.shape"
      ],
      "metadata": {
        "id": "kXbxuzI69rG1",
        "colab": {
          "base_uri": "https://localhost:8080/"
        },
        "outputId": "312ef590-4ee9-4f33-862e-0e0cd33f52aa"
      },
      "execution_count": 6,
      "outputs": [
        {
          "output_type": "execute_result",
          "data": {
            "text/plain": [
              "(178, 13)"
            ]
          },
          "metadata": {},
          "execution_count": 6
        }
      ]
    },
    {
      "cell_type": "code",
      "source": [
        "wine.info()"
      ],
      "metadata": {
        "id": "F2WnejC_9qzU",
        "colab": {
          "base_uri": "https://localhost:8080/"
        },
        "outputId": "0c8b4d96-3183-4016-9051-6c7935b7ed8f"
      },
      "execution_count": 7,
      "outputs": [
        {
          "output_type": "stream",
          "name": "stdout",
          "text": [
            "<class 'pandas.core.frame.DataFrame'>\n",
            "RangeIndex: 178 entries, 0 to 177\n",
            "Data columns (total 13 columns):\n",
            " #   Column           Non-Null Count  Dtype  \n",
            "---  ------           --------------  -----  \n",
            " 0   Alcohol          178 non-null    float64\n",
            " 1   Malic            178 non-null    float64\n",
            " 2   Ash              178 non-null    float64\n",
            " 3   Alcalinity       178 non-null    float64\n",
            " 4   Magnesium        178 non-null    int64  \n",
            " 5   Phenols          178 non-null    float64\n",
            " 6   Flavanoids       178 non-null    float64\n",
            " 7   Nonflavanoids    178 non-null    float64\n",
            " 8   Proanthocyanins  178 non-null    float64\n",
            " 9   Color            178 non-null    float64\n",
            " 10  Hue              178 non-null    float64\n",
            " 11  Dilution         178 non-null    float64\n",
            " 12  Proline          178 non-null    int64  \n",
            "dtypes: float64(11), int64(2)\n",
            "memory usage: 18.2 KB\n"
          ]
        }
      ]
    },
    {
      "cell_type": "code",
      "source": [
        "wine.describe()"
      ],
      "metadata": {
        "id": "K5mwIbrq9cFJ",
        "colab": {
          "base_uri": "https://localhost:8080/",
          "height": 364
        },
        "outputId": "c56633ef-31be-411e-834b-539afd2599ca"
      },
      "execution_count": 8,
      "outputs": [
        {
          "output_type": "execute_result",
          "data": {
            "text/plain": [
              "          Alcohol       Malic         Ash  Alcalinity   Magnesium     Phenols  \\\n",
              "count  178.000000  178.000000  178.000000  178.000000  178.000000  178.000000   \n",
              "mean    13.000618    2.336348    2.366517   19.494944   99.741573    2.295112   \n",
              "std      0.811827    1.117146    0.274344    3.339564   14.282484    0.625851   \n",
              "min     11.030000    0.740000    1.360000   10.600000   70.000000    0.980000   \n",
              "25%     12.362500    1.602500    2.210000   17.200000   88.000000    1.742500   \n",
              "50%     13.050000    1.865000    2.360000   19.500000   98.000000    2.355000   \n",
              "75%     13.677500    3.082500    2.557500   21.500000  107.000000    2.800000   \n",
              "max     14.830000    5.800000    3.230000   30.000000  162.000000    3.880000   \n",
              "\n",
              "       Flavanoids  Nonflavanoids  Proanthocyanins       Color         Hue  \\\n",
              "count  178.000000     178.000000       178.000000  178.000000  178.000000   \n",
              "mean     2.029270       0.361854         1.590899    5.058090    0.957449   \n",
              "std      0.998859       0.124453         0.572359    2.318286    0.228572   \n",
              "min      0.340000       0.130000         0.410000    1.280000    0.480000   \n",
              "25%      1.205000       0.270000         1.250000    3.220000    0.782500   \n",
              "50%      2.135000       0.340000         1.555000    4.690000    0.965000   \n",
              "75%      2.875000       0.437500         1.950000    6.200000    1.120000   \n",
              "max      5.080000       0.660000         3.580000   13.000000    1.710000   \n",
              "\n",
              "         Dilution      Proline  \n",
              "count  178.000000   178.000000  \n",
              "mean     2.611685   746.893258  \n",
              "std      0.709990   314.907474  \n",
              "min      1.270000   278.000000  \n",
              "25%      1.937500   500.500000  \n",
              "50%      2.780000   673.500000  \n",
              "75%      3.170000   985.000000  \n",
              "max      4.000000  1680.000000  "
            ],
            "text/html": [
              "\n",
              "  <div id=\"df-bf17c127-84e0-48ef-8647-f7b4f38615a1\">\n",
              "    <div class=\"colab-df-container\">\n",
              "      <div>\n",
              "<style scoped>\n",
              "    .dataframe tbody tr th:only-of-type {\n",
              "        vertical-align: middle;\n",
              "    }\n",
              "\n",
              "    .dataframe tbody tr th {\n",
              "        vertical-align: top;\n",
              "    }\n",
              "\n",
              "    .dataframe thead th {\n",
              "        text-align: right;\n",
              "    }\n",
              "</style>\n",
              "<table border=\"1\" class=\"dataframe\">\n",
              "  <thead>\n",
              "    <tr style=\"text-align: right;\">\n",
              "      <th></th>\n",
              "      <th>Alcohol</th>\n",
              "      <th>Malic</th>\n",
              "      <th>Ash</th>\n",
              "      <th>Alcalinity</th>\n",
              "      <th>Magnesium</th>\n",
              "      <th>Phenols</th>\n",
              "      <th>Flavanoids</th>\n",
              "      <th>Nonflavanoids</th>\n",
              "      <th>Proanthocyanins</th>\n",
              "      <th>Color</th>\n",
              "      <th>Hue</th>\n",
              "      <th>Dilution</th>\n",
              "      <th>Proline</th>\n",
              "    </tr>\n",
              "  </thead>\n",
              "  <tbody>\n",
              "    <tr>\n",
              "      <th>count</th>\n",
              "      <td>178.000000</td>\n",
              "      <td>178.000000</td>\n",
              "      <td>178.000000</td>\n",
              "      <td>178.000000</td>\n",
              "      <td>178.000000</td>\n",
              "      <td>178.000000</td>\n",
              "      <td>178.000000</td>\n",
              "      <td>178.000000</td>\n",
              "      <td>178.000000</td>\n",
              "      <td>178.000000</td>\n",
              "      <td>178.000000</td>\n",
              "      <td>178.000000</td>\n",
              "      <td>178.000000</td>\n",
              "    </tr>\n",
              "    <tr>\n",
              "      <th>mean</th>\n",
              "      <td>13.000618</td>\n",
              "      <td>2.336348</td>\n",
              "      <td>2.366517</td>\n",
              "      <td>19.494944</td>\n",
              "      <td>99.741573</td>\n",
              "      <td>2.295112</td>\n",
              "      <td>2.029270</td>\n",
              "      <td>0.361854</td>\n",
              "      <td>1.590899</td>\n",
              "      <td>5.058090</td>\n",
              "      <td>0.957449</td>\n",
              "      <td>2.611685</td>\n",
              "      <td>746.893258</td>\n",
              "    </tr>\n",
              "    <tr>\n",
              "      <th>std</th>\n",
              "      <td>0.811827</td>\n",
              "      <td>1.117146</td>\n",
              "      <td>0.274344</td>\n",
              "      <td>3.339564</td>\n",
              "      <td>14.282484</td>\n",
              "      <td>0.625851</td>\n",
              "      <td>0.998859</td>\n",
              "      <td>0.124453</td>\n",
              "      <td>0.572359</td>\n",
              "      <td>2.318286</td>\n",
              "      <td>0.228572</td>\n",
              "      <td>0.709990</td>\n",
              "      <td>314.907474</td>\n",
              "    </tr>\n",
              "    <tr>\n",
              "      <th>min</th>\n",
              "      <td>11.030000</td>\n",
              "      <td>0.740000</td>\n",
              "      <td>1.360000</td>\n",
              "      <td>10.600000</td>\n",
              "      <td>70.000000</td>\n",
              "      <td>0.980000</td>\n",
              "      <td>0.340000</td>\n",
              "      <td>0.130000</td>\n",
              "      <td>0.410000</td>\n",
              "      <td>1.280000</td>\n",
              "      <td>0.480000</td>\n",
              "      <td>1.270000</td>\n",
              "      <td>278.000000</td>\n",
              "    </tr>\n",
              "    <tr>\n",
              "      <th>25%</th>\n",
              "      <td>12.362500</td>\n",
              "      <td>1.602500</td>\n",
              "      <td>2.210000</td>\n",
              "      <td>17.200000</td>\n",
              "      <td>88.000000</td>\n",
              "      <td>1.742500</td>\n",
              "      <td>1.205000</td>\n",
              "      <td>0.270000</td>\n",
              "      <td>1.250000</td>\n",
              "      <td>3.220000</td>\n",
              "      <td>0.782500</td>\n",
              "      <td>1.937500</td>\n",
              "      <td>500.500000</td>\n",
              "    </tr>\n",
              "    <tr>\n",
              "      <th>50%</th>\n",
              "      <td>13.050000</td>\n",
              "      <td>1.865000</td>\n",
              "      <td>2.360000</td>\n",
              "      <td>19.500000</td>\n",
              "      <td>98.000000</td>\n",
              "      <td>2.355000</td>\n",
              "      <td>2.135000</td>\n",
              "      <td>0.340000</td>\n",
              "      <td>1.555000</td>\n",
              "      <td>4.690000</td>\n",
              "      <td>0.965000</td>\n",
              "      <td>2.780000</td>\n",
              "      <td>673.500000</td>\n",
              "    </tr>\n",
              "    <tr>\n",
              "      <th>75%</th>\n",
              "      <td>13.677500</td>\n",
              "      <td>3.082500</td>\n",
              "      <td>2.557500</td>\n",
              "      <td>21.500000</td>\n",
              "      <td>107.000000</td>\n",
              "      <td>2.800000</td>\n",
              "      <td>2.875000</td>\n",
              "      <td>0.437500</td>\n",
              "      <td>1.950000</td>\n",
              "      <td>6.200000</td>\n",
              "      <td>1.120000</td>\n",
              "      <td>3.170000</td>\n",
              "      <td>985.000000</td>\n",
              "    </tr>\n",
              "    <tr>\n",
              "      <th>max</th>\n",
              "      <td>14.830000</td>\n",
              "      <td>5.800000</td>\n",
              "      <td>3.230000</td>\n",
              "      <td>30.000000</td>\n",
              "      <td>162.000000</td>\n",
              "      <td>3.880000</td>\n",
              "      <td>5.080000</td>\n",
              "      <td>0.660000</td>\n",
              "      <td>3.580000</td>\n",
              "      <td>13.000000</td>\n",
              "      <td>1.710000</td>\n",
              "      <td>4.000000</td>\n",
              "      <td>1680.000000</td>\n",
              "    </tr>\n",
              "  </tbody>\n",
              "</table>\n",
              "</div>\n",
              "      <button class=\"colab-df-convert\" onclick=\"convertToInteractive('df-bf17c127-84e0-48ef-8647-f7b4f38615a1')\"\n",
              "              title=\"Convert this dataframe to an interactive table.\"\n",
              "              style=\"display:none;\">\n",
              "        \n",
              "  <svg xmlns=\"http://www.w3.org/2000/svg\" height=\"24px\"viewBox=\"0 0 24 24\"\n",
              "       width=\"24px\">\n",
              "    <path d=\"M0 0h24v24H0V0z\" fill=\"none\"/>\n",
              "    <path d=\"M18.56 5.44l.94 2.06.94-2.06 2.06-.94-2.06-.94-.94-2.06-.94 2.06-2.06.94zm-11 1L8.5 8.5l.94-2.06 2.06-.94-2.06-.94L8.5 2.5l-.94 2.06-2.06.94zm10 10l.94 2.06.94-2.06 2.06-.94-2.06-.94-.94-2.06-.94 2.06-2.06.94z\"/><path d=\"M17.41 7.96l-1.37-1.37c-.4-.4-.92-.59-1.43-.59-.52 0-1.04.2-1.43.59L10.3 9.45l-7.72 7.72c-.78.78-.78 2.05 0 2.83L4 21.41c.39.39.9.59 1.41.59.51 0 1.02-.2 1.41-.59l7.78-7.78 2.81-2.81c.8-.78.8-2.07 0-2.86zM5.41 20L4 18.59l7.72-7.72 1.47 1.35L5.41 20z\"/>\n",
              "  </svg>\n",
              "      </button>\n",
              "      \n",
              "  <style>\n",
              "    .colab-df-container {\n",
              "      display:flex;\n",
              "      flex-wrap:wrap;\n",
              "      gap: 12px;\n",
              "    }\n",
              "\n",
              "    .colab-df-convert {\n",
              "      background-color: #E8F0FE;\n",
              "      border: none;\n",
              "      border-radius: 50%;\n",
              "      cursor: pointer;\n",
              "      display: none;\n",
              "      fill: #1967D2;\n",
              "      height: 32px;\n",
              "      padding: 0 0 0 0;\n",
              "      width: 32px;\n",
              "    }\n",
              "\n",
              "    .colab-df-convert:hover {\n",
              "      background-color: #E2EBFA;\n",
              "      box-shadow: 0px 1px 2px rgba(60, 64, 67, 0.3), 0px 1px 3px 1px rgba(60, 64, 67, 0.15);\n",
              "      fill: #174EA6;\n",
              "    }\n",
              "\n",
              "    [theme=dark] .colab-df-convert {\n",
              "      background-color: #3B4455;\n",
              "      fill: #D2E3FC;\n",
              "    }\n",
              "\n",
              "    [theme=dark] .colab-df-convert:hover {\n",
              "      background-color: #434B5C;\n",
              "      box-shadow: 0px 1px 3px 1px rgba(0, 0, 0, 0.15);\n",
              "      filter: drop-shadow(0px 1px 2px rgba(0, 0, 0, 0.3));\n",
              "      fill: #FFFFFF;\n",
              "    }\n",
              "  </style>\n",
              "\n",
              "      <script>\n",
              "        const buttonEl =\n",
              "          document.querySelector('#df-bf17c127-84e0-48ef-8647-f7b4f38615a1 button.colab-df-convert');\n",
              "        buttonEl.style.display =\n",
              "          google.colab.kernel.accessAllowed ? 'block' : 'none';\n",
              "\n",
              "        async function convertToInteractive(key) {\n",
              "          const element = document.querySelector('#df-bf17c127-84e0-48ef-8647-f7b4f38615a1');\n",
              "          const dataTable =\n",
              "            await google.colab.kernel.invokeFunction('convertToInteractive',\n",
              "                                                     [key], {});\n",
              "          if (!dataTable) return;\n",
              "\n",
              "          const docLinkHtml = 'Like what you see? Visit the ' +\n",
              "            '<a target=\"_blank\" href=https://colab.research.google.com/notebooks/data_table.ipynb>data table notebook</a>'\n",
              "            + ' to learn more about interactive tables.';\n",
              "          element.innerHTML = '';\n",
              "          dataTable['output_type'] = 'display_data';\n",
              "          await google.colab.output.renderOutput(dataTable, element);\n",
              "          const docLink = document.createElement('div');\n",
              "          docLink.innerHTML = docLinkHtml;\n",
              "          element.appendChild(docLink);\n",
              "        }\n",
              "      </script>\n",
              "    </div>\n",
              "  </div>\n",
              "  "
            ]
          },
          "metadata": {},
          "execution_count": 8
        }
      ]
    },
    {
      "cell_type": "code",
      "source": [
        "wine.isna().sum()"
      ],
      "metadata": {
        "colab": {
          "base_uri": "https://localhost:8080/"
        },
        "id": "pthTPZTgu4QR",
        "outputId": "8a737c57-645c-47cf-a749-47f8935bf6aa"
      },
      "execution_count": 9,
      "outputs": [
        {
          "output_type": "execute_result",
          "data": {
            "text/plain": [
              "Alcohol            0\n",
              "Malic              0\n",
              "Ash                0\n",
              "Alcalinity         0\n",
              "Magnesium          0\n",
              "Phenols            0\n",
              "Flavanoids         0\n",
              "Nonflavanoids      0\n",
              "Proanthocyanins    0\n",
              "Color              0\n",
              "Hue                0\n",
              "Dilution           0\n",
              "Proline            0\n",
              "dtype: int64"
            ]
          },
          "metadata": {},
          "execution_count": 9
        }
      ]
    },
    {
      "cell_type": "code",
      "source": [
        "wine.duplicated().sum()"
      ],
      "metadata": {
        "colab": {
          "base_uri": "https://localhost:8080/"
        },
        "id": "Wki-fONeu94K",
        "outputId": "0aea30cd-ea37-4012-ef1d-f2a21eee1ead"
      },
      "execution_count": 10,
      "outputs": [
        {
          "output_type": "execute_result",
          "data": {
            "text/plain": [
              "0"
            ]
          },
          "metadata": {},
          "execution_count": 10
        }
      ]
    },
    {
      "cell_type": "code",
      "source": [
        "# data visualisation\n",
        "\n",
        "for feature in wine.columns:\n",
        "\n",
        "    plt.figure(figsize=(20,8))\n",
        "\n",
        "    plt.subplot(1,2,1)\n",
        "    wine[feature].hist(bins=5)\n",
        "    plt.ylabel('Count')\n",
        "    plt.title(feature)\n",
        "\n",
        "    plt.subplot(1,2,2)\n",
        "    plt.boxplot(wine[feature])\n",
        "    plt.title(feature)\n",
        "\n",
        "    plt.show()\n",
        "\n",
        "   "
      ],
      "metadata": {
        "colab": {
          "base_uri": "https://localhost:8080/",
          "height": 1000
        },
        "id": "c43PcsvKvD41",
        "outputId": "a534d951-51bf-4cb2-f144-1e486a3e46fb"
      },
      "execution_count": 12,
      "outputs": [
        {
          "output_type": "display_data",
          "data": {
            "text/plain": [
              "<Figure size 1440x576 with 2 Axes>"
            ],
            "image/png": "[encoded data removed]"
          },
          "metadata": {
            "needs_background": "light"
          }
        },
        {
          "output_type": "display_data",
          "data": {
            "text/plain": [
              "<Figure size 1440x576 with 2 Axes>"
            ],
            "image/png": "[encoded data removed]"
          },
          "metadata": {
            "needs_background": "light"
          }
        },
        {
          "output_type": "display_data",
          "data": {
            "text/plain": [
              "<Figure size 1440x576 with 2 Axes>"
            ],
            "image/png": "[encoded data removed]"
          },
          "metadata": {
            "needs_background": "light"
          }
        },
        {
          "output_type": "display_data",
          "data": {
            "text/plain": [
              "<Figure size 1440x576 with 2 Axes>"
            ],
            "image/png": "[encoded data removed]"
          },
          "metadata": {
            "needs_background": "light"
          }
        },
        {
          "output_type": "display_data",
          "data": {
            "text/plain": [
              "<Figure size 1440x576 with 2 Axes>"
            ],
            "image/png": "[encoded data removed]"
          },
          "metadata": {
            "needs_background": "light"
          }
        },
        {
          "output_type": "display_data",
          "data": {
            "text/plain": [
              "<Figure size 1440x576 with 2 Axes>"
            ],
            "image/png": "[encoded data removed]"
          },
          "metadata": {
            "needs_background": "light"
          }
        },
        {
          "output_type": "display_data",
          "data": {
            "text/plain": [
              "<Figure size 1440x576 with 2 Axes>"
            ],
            "image/png": "[encoded data removed]"
          },
          "metadata": {
            "needs_background": "light"
          }
        },
        {
          "output_type": "display_data",
          "data": {
            "text/plain": [
              "<Figure size 1440x576 with 2 Axes>"
            ],
            "image/png": "[encoded data removed]"
          },
          "metadata": {
            "needs_background": "light"
          }
        },
        {
          "output_type": "display_data",
          "data": {
            "text/plain": [
              "<Figure size 1440x576 with 2 Axes>"
            ],
            "image/png": "[encoded data removed]"
          },
          "metadata": {
            "needs_background": "light"
          }
        },
        {
          "output_type": "display_data",
          "data": {
            "text/plain": [
              "<Figure size 1440x576 with 2 Axes>"
            ],
            "image/png": "[encoded data removed]"
          },
          "metadata": {
            "needs_background": "light"
          }
        },
        {
          "output_type": "display_data",
          "data": {
            "text/plain": [
              "<Figure size 1440x576 with 2 Axes>"
            ],
            "image/png": "[encoded data removed]"
          },
          "metadata": {
            "needs_background": "light"
          }
        },
        {
          "output_type": "display_data",
          "data": {
            "text/plain": [
              "<Figure size 1440x576 with 2 Axes>"
            ],
            "image/png": "[encoded data removed]"
          },
          "metadata": {
            "needs_background": "light"
          }
        },
        {
          "output_type": "display_data",
          "data": {
            "text/plain": [
              "<Figure size 1440x576 with 2 Axes>"
            ],
            "image/png": "[encoded data removed]"
          },
          "metadata": {
            "needs_background": "light"
          }
        }
      ]
    },
    {
      "cell_type": "code",
      "source": [
        "#Normalising data\n",
        "minmax = MinMaxScaler()\n",
        "wine_norm = minmax.fit_transform(wine) \n",
        "wine_norm"
      ],
      "metadata": {
        "colab": {
          "base_uri": "https://localhost:8080/"
        },
        "id": "msBK50QwwKZi",
        "outputId": "406c29a9-518d-431c-a80d-ef1652494829"
      },
      "execution_count": 13,
      "outputs": [
        {
          "output_type": "execute_result",
          "data": {
            "text/plain": [
              "array([[0.84210526, 0.1916996 , 0.57219251, ..., 0.45528455, 0.97069597,\n",
              "        0.56134094],\n",
              "       [0.57105263, 0.2055336 , 0.4171123 , ..., 0.46341463, 0.78021978,\n",
              "        0.55064194],\n",
              "       [0.56052632, 0.3201581 , 0.70053476, ..., 0.44715447, 0.6959707 ,\n",
              "        0.64693295],\n",
              "       ...,\n",
              "       [0.58947368, 0.69960474, 0.48128342, ..., 0.08943089, 0.10622711,\n",
              "        0.39728959],\n",
              "       [0.56315789, 0.36561265, 0.54010695, ..., 0.09756098, 0.12820513,\n",
              "        0.40085592],\n",
              "       [0.81578947, 0.66403162, 0.73796791, ..., 0.10569106, 0.12087912,\n",
              "        0.20114123]])"
            ]
          },
          "metadata": {},
          "execution_count": 13
        }
      ]
    },
    {
      "cell_type": "code",
      "source": [
        "#standardising data\n",
        "scaler = StandardScaler()\n",
        "wine_std = scaler.fit_transform(wine)\n",
        "wine_std"
      ],
      "metadata": {
        "colab": {
          "base_uri": "https://localhost:8080/"
        },
        "id": "xxM2wsS_wo4f",
        "outputId": "56423a7f-cdcf-4d86-f82e-fa6dc95b6b36"
      },
      "execution_count": 14,
      "outputs": [
        {
          "output_type": "execute_result",
          "data": {
            "text/plain": [
              "array([[ 1.51861254, -0.5622498 ,  0.23205254, ...,  0.36217728,\n",
              "         1.84791957,  1.01300893],\n",
              "       [ 0.24628963, -0.49941338, -0.82799632, ...,  0.40605066,\n",
              "         1.1134493 ,  0.96524152],\n",
              "       [ 0.19687903,  0.02123125,  1.10933436, ...,  0.31830389,\n",
              "         0.78858745,  1.39514818],\n",
              "       ...,\n",
              "       [ 0.33275817,  1.74474449, -0.38935541, ..., -1.61212515,\n",
              "        -1.48544548,  0.28057537],\n",
              "       [ 0.20923168,  0.22769377,  0.01273209, ..., -1.56825176,\n",
              "        -1.40069891,  0.29649784],\n",
              "       [ 1.39508604,  1.58316512,  1.36520822, ..., -1.52437837,\n",
              "        -1.42894777, -0.59516041]])"
            ]
          },
          "metadata": {},
          "execution_count": 14
        }
      ]
    },
    {
      "cell_type": "markdown",
      "source": [
        "**PCA on normalised data**"
      ],
      "metadata": {
        "id": "Ce_OxxAUxOJT"
      }
    },
    {
      "cell_type": "code",
      "source": [
        "pca = PCA()\n",
        "pca_values = pca.fit_transform(wine_norm)\n",
        "pca_values"
      ],
      "metadata": {
        "colab": {
          "base_uri": "https://localhost:8080/"
        },
        "id": "Bh2o9cEdwvcW",
        "outputId": "999b6c5d-bf89-4784-fe18-6c3f58a45003"
      },
      "execution_count": 15,
      "outputs": [
        {
          "output_type": "execute_result",
          "data": {
            "text/plain": [
              "array([[-0.70633576, -0.25319275,  0.02409269, ...,  0.04971144,\n",
              "        -0.02001158, -0.00872296],\n",
              "       [-0.4849768 , -0.00882289, -0.28048205, ...,  0.07415784,\n",
              "        -0.05083753, -0.00524944],\n",
              "       [-0.52117227, -0.18918722,  0.19621674, ...,  0.0121311 ,\n",
              "        -0.10418449, -0.02316441],\n",
              "       ...,\n",
              "       [ 0.62631289, -0.54685701, -0.03049476, ...,  0.13116697,\n",
              "         0.11160576,  0.0389133 ],\n",
              "       [ 0.5729911 , -0.42551609, -0.09453672, ...,  0.03027458,\n",
              "         0.05732893,  0.01103053],\n",
              "       [ 0.701764  , -0.51350498,  0.29390996, ..., -0.02784028,\n",
              "         0.01873501, -0.06648261]])"
            ]
          },
          "metadata": {},
          "execution_count": 15
        }
      ]
    },
    {
      "cell_type": "code",
      "source": [
        "var = pca.explained_variance_ratio_ \n",
        "var "
      ],
      "metadata": {
        "colab": {
          "base_uri": "https://localhost:8080/"
        },
        "id": "DI0nABO8xmrs",
        "outputId": "0d7b7553-44cd-4fb0-cda0-ba4f118f2b24"
      },
      "execution_count": 16,
      "outputs": [
        {
          "output_type": "execute_result",
          "data": {
            "text/plain": [
              "array([0.40749485, 0.18970352, 0.08561671, 0.07426678, 0.05565301,\n",
              "       0.04658837, 0.03663929, 0.02408789, 0.02274371, 0.02250965,\n",
              "       0.01381292, 0.01273236, 0.00815095])"
            ]
          },
          "metadata": {},
          "execution_count": 16
        }
      ]
    },
    {
      "cell_type": "code",
      "source": [
        "#Variance captured by individual PCs.\n",
        "plt.figure(figsize=(10,5))\n",
        "plt.bar(range(1,len(var)+1) , var)\n",
        "\n",
        "plt.xlabel('Number of Components')\n",
        "plt.ylabel('variance (%)')\n",
        "plt.title('Variance captured by individual component')\n",
        "plt.show()"
      ],
      "metadata": {
        "colab": {
          "base_uri": "https://localhost:8080/",
          "height": 350
        },
        "id": "_WGfZnObx7o-",
        "outputId": "042a6fa6-b3e6-47a1-8255-b30f212085bc"
      },
      "execution_count": 17,
      "outputs": [
        {
          "output_type": "display_data",
          "data": {
            "text/plain": [
              "<Figure size 720x360 with 1 Axes>"
            ],
            "image/png": "[encoded data removed]"
          },
          "metadata": {
            "needs_background": "light"
          }
        }
      ]
    },
    {
      "cell_type": "code",
      "source": [
        "# Cumulative variance \n",
        "var1 = np.cumsum(np.round(var, 4)*100)\n",
        "var1 "
      ],
      "metadata": {
        "colab": {
          "base_uri": "https://localhost:8080/"
        },
        "id": "6ZfqfQS6ztiD",
        "outputId": "ed600651-e43a-409c-ba28-2077e4d25f56"
      },
      "execution_count": 18,
      "outputs": [
        {
          "output_type": "execute_result",
          "data": {
            "text/plain": [
              "array([ 40.75,  59.72,  68.28,  75.71,  81.28,  85.94,  89.6 ,  92.01,\n",
              "        94.28,  96.53,  97.91,  99.18, 100.  ])"
            ]
          },
          "metadata": {},
          "execution_count": 18
        }
      ]
    },
    {
      "cell_type": "code",
      "source": [
        "# Commulative Variance plot \n",
        "plt.figure(figsize=(10,5))\n",
        "plt.plot(var1,color=\"red\", linestyle='--', marker='o') \n",
        "\n",
        "plt.xlabel('Number of Components')\n",
        "plt.title('Explained variance by each additional component')\n",
        "plt.ylabel('Cumulative variance (%)')\n",
        "plt.show()"
      ],
      "metadata": {
        "colab": {
          "base_uri": "https://localhost:8080/",
          "height": 350
        },
        "id": "LFw-wdBczteA",
        "outputId": "522c68b2-061d-407e-dcc4-4bf9175fd358"
      },
      "execution_count": 21,
      "outputs": [
        {
          "output_type": "display_data",
          "data": {
            "text/plain": [
              "<Figure size 720x360 with 1 Axes>"
            ],
            "image/png": "[encoded data removed]"
          },
          "metadata": {
            "needs_background": "light"
          }
        }
      ]
    },
    {
      "cell_type": "code",
      "source": [
        "pca = PCA(n_components=3)\n",
        "pca_values = pca.fit_transform(wine_norm)\n",
        "pca_values "
      ],
      "metadata": {
        "colab": {
          "base_uri": "https://localhost:8080/"
        },
        "id": "BB2uegLn0QfP",
        "outputId": "46c0b616-522a-4f05-afba-4b84d02423c7"
      },
      "execution_count": 22,
      "outputs": [
        {
          "output_type": "execute_result",
          "data": {
            "text/plain": [
              "array([[-7.06335756e-01, -2.53192753e-01,  2.40926932e-02],\n",
              "       [-4.84976802e-01, -8.82289142e-03, -2.80482048e-01],\n",
              "       [-5.21172266e-01, -1.89187222e-01,  1.96216736e-01],\n",
              "       [-8.21643663e-01, -5.80905512e-01,  8.11097172e-02],\n",
              "       [-2.02546382e-01, -5.94665740e-02,  3.00239941e-01],\n",
              "       [-6.08190152e-01, -4.87519191e-01, -7.54332321e-02],\n",
              "       [-5.44047399e-01, -3.00196497e-01, -1.05074621e-01],\n",
              "       [-4.74357495e-01, -2.98197021e-01, -2.82149308e-03],\n",
              "       [-5.00432012e-01, -3.07602859e-01, -2.30493613e-01],\n",
              "       [-6.27517969e-01, -2.06328233e-01, -1.14147932e-01],\n",
              "       [-7.27467157e-01, -3.56512044e-01, -5.04199490e-02],\n",
              "       [-3.74967744e-01, -2.25424535e-01, -2.86134083e-01],\n",
              "       [-4.48188283e-01, -2.31938139e-01, -1.67908053e-01],\n",
              "       [-6.26345329e-01, -3.55138677e-01, -8.58356579e-02],\n",
              "       [-8.35717011e-01, -5.38047802e-01, -1.15202943e-01],\n",
              "       [-4.71931568e-01, -3.37405385e-01, -7.27821607e-02],\n",
              "       [-4.26990905e-01, -4.50842684e-01,  5.44365527e-02],\n",
              "       [-3.66595704e-01, -3.15750341e-01,  5.36790513e-02],\n",
              "       [-7.18788533e-01, -5.93881332e-01, -9.66475568e-02],\n",
              "       [-4.58884986e-01, -1.75782240e-01,  4.61890181e-02],\n",
              "       [-6.61852288e-01, -1.27831032e-01, -1.21342296e-02],\n",
              "       [-2.67900032e-01,  9.81127565e-03,  2.68433962e-01],\n",
              "       [-5.99782399e-01,  7.82494523e-04, -3.71825478e-03],\n",
              "       [-4.17894800e-01,  1.13786901e-01, -3.76813193e-02],\n",
              "       [-4.49940392e-01,  9.83771974e-02,  1.19184786e-01],\n",
              "       [-2.15787795e-01,  9.26270331e-03,  4.74744972e-01],\n",
              "       [-4.15531996e-01, -1.55470385e-01, -7.11747961e-03],\n",
              "       [-2.83946970e-01, -8.97364262e-02, -2.71605692e-01],\n",
              "       [-4.75099227e-01, -8.80516479e-02,  1.86621472e-01],\n",
              "       [-5.14396469e-01, -1.04602502e-01, -1.20472516e-01],\n",
              "       [-5.20965812e-01, -2.58430884e-01,  1.08979008e-01],\n",
              "       [-5.75738233e-01, -3.61155788e-01, -1.13266908e-01],\n",
              "       [-3.02144639e-01, -5.14943064e-02, -4.32229678e-02],\n",
              "       [-3.67021971e-01, -2.68616630e-01,  8.59977967e-02],\n",
              "       [-3.03022468e-01, -1.21413202e-01, -5.01639070e-02],\n",
              "       [-4.58338878e-01, -3.03098822e-02,  7.90300425e-02],\n",
              "       [-2.71566325e-01, -7.61238406e-02, -5.05401695e-02],\n",
              "       [-2.32004189e-01, -5.03302763e-02, -1.46445445e-01],\n",
              "       [-3.05480403e-01,  6.16775563e-02, -3.00866231e-01],\n",
              "       [-5.19605033e-01, -3.13830061e-01,  1.67670550e-01],\n",
              "       [-5.30575114e-01, -1.29536623e-01,  7.98787590e-02],\n",
              "       [-1.87044526e-01, -1.24830306e-01,  6.65891996e-02],\n",
              "       [-7.05508197e-01, -2.36951582e-01, -2.76987114e-03],\n",
              "       [-1.11517299e-01, -6.93158637e-02,  1.90046567e-01],\n",
              "       [-4.67360652e-01, -4.17305795e-03, -1.29993016e-02],\n",
              "       [-2.90122801e-01, -3.67221063e-01,  2.06461390e-01],\n",
              "       [-5.83259370e-01, -3.09000481e-01,  1.60283159e-01],\n",
              "       [-6.20279029e-01, -1.93810631e-01, -8.48239402e-02],\n",
              "       [-3.94822370e-01, -2.93598970e-01,  1.43053893e-02],\n",
              "       [-5.59620161e-01, -4.08270579e-01, -5.25399819e-02],\n",
              "       [-6.31721343e-01, -1.53075104e-01, -2.56893756e-01],\n",
              "       [-6.19429907e-01, -1.89577074e-01, -6.39705192e-02],\n",
              "       [-7.31057466e-01, -3.52882173e-01,  2.11611968e-02],\n",
              "       [-4.46372391e-01, -3.75445367e-01,  1.30896875e-02],\n",
              "       [-4.72271686e-01, -2.17583775e-01, -1.67029793e-01],\n",
              "       [-5.26519475e-01, -2.47353412e-01,  3.82178438e-02],\n",
              "       [-5.80922838e-01, -2.96118382e-01, -3.48563184e-02],\n",
              "       [-4.56499660e-01, -2.54172861e-01,  3.38969715e-03],\n",
              "       [-6.68673306e-01, -3.73626692e-01, -6.87172588e-02],\n",
              "       [ 2.36612131e-01,  4.15897679e-01, -8.35821066e-01],\n",
              "       [ 4.11083017e-01,  2.39042056e-01, -3.26347681e-01],\n",
              "       [ 4.53466145e-01,  1.15387043e-01, -3.39942569e-01],\n",
              "       [-1.02908723e-02,  1.44058312e-01, -3.89284454e-01],\n",
              "       [-4.53680708e-01,  3.58591310e-01, -4.15914229e-02],\n",
              "       [ 1.85889069e-01,  4.31970612e-01, -1.20130348e-01],\n",
              "       [-1.32514400e-01,  1.77025232e-01, -5.75362841e-02],\n",
              "       [-4.81660733e-01,  2.48221509e-01, -2.11338721e-01],\n",
              "       [-1.37359790e-01,  4.31281611e-01, -1.93935013e-01],\n",
              "       [ 2.20157829e-01,  2.60739073e-02, -2.72596418e-01],\n",
              "       [-3.45031544e-01,  3.16134486e-01, -3.82199375e-01],\n",
              "       [ 3.67943408e-01,  1.55916428e-01, -3.06832931e-01],\n",
              "       [-4.08324351e-01,  2.21997603e-01,  1.96396926e-01],\n",
              "       [ 7.54211315e-02,  1.96129620e-01, -7.80122962e-02],\n",
              "       [-5.99276557e-01,  8.58331792e-02,  3.60284036e-01],\n",
              "       [-4.59562261e-01,  2.77406318e-01, -5.31956187e-02],\n",
              "       [ 2.31860903e-01,  4.39499276e-01, -3.56482405e-01],\n",
              "       [-6.49397655e-02,  3.10816394e-01, -4.68782074e-01],\n",
              "       [ 3.23736371e-01,  3.22191312e-01, -5.14613008e-02],\n",
              "       [-1.33928622e-01,  1.67857293e-01, -3.20328347e-01],\n",
              "       [-8.63464614e-02,  2.50941891e-01,  4.54337877e-01],\n",
              "       [-1.87477316e-01,  6.49776372e-01, -1.55435552e-01],\n",
              "       [-2.53589040e-01,  2.49115557e-01, -8.16831222e-02],\n",
              "       [ 6.45922121e-02,  4.87258389e-01,  7.70465735e-03],\n",
              "       [ 5.68567489e-01, -2.72502414e-03,  2.41859593e-01],\n",
              "       [-2.07555330e-01,  3.83332423e-01, -3.30390310e-02],\n",
              "       [-1.84826649e-01,  4.18166208e-01, -1.68233517e-01],\n",
              "       [ 1.94604609e-01,  4.44698701e-01, -4.40682697e-02],\n",
              "       [ 4.97903090e-02,  5.58265148e-01,  1.88614972e-01],\n",
              "       [ 2.01995378e-01,  3.91867103e-01,  1.01233892e-01],\n",
              "       [ 2.60011770e-02,  5.20397483e-01,  7.47890061e-02],\n",
              "       [ 3.20777030e-01,  4.07964175e-01, -6.98967176e-02],\n",
              "       [ 3.21433432e-01,  4.14255535e-01,  1.77255582e-02],\n",
              "       [ 4.41539233e-01,  2.80747043e-01, -7.72974958e-02],\n",
              "       [-1.83814799e-01,  4.70714917e-01,  1.01666319e-01],\n",
              "       [-2.34623773e-01,  4.82068800e-01, -3.77236891e-02],\n",
              "       [-3.98762991e-01,  6.68359472e-02, -1.35977065e-02],\n",
              "       [ 1.32311032e-01,  2.33219802e-01, -1.05380527e-01],\n",
              "       [-2.03237436e-01,  4.46450045e-01, -1.97838355e-01],\n",
              "       [-4.91302147e-01,  2.39224247e-01, -3.26710957e-02],\n",
              "       [-2.22211504e-01,  4.05617951e-01,  2.77418048e-01],\n",
              "       [-1.78415144e-01,  3.83375676e-01, -2.46225604e-01],\n",
              "       [ 8.82037061e-02,  3.91561686e-01, -3.33937679e-01],\n",
              "       [-4.59627898e-02,  3.16898298e-01,  2.14413034e-01],\n",
              "       [ 1.27165257e-01,  4.86899646e-01, -1.18500840e-01],\n",
              "       [-1.68359803e-01,  3.79932119e-01, -3.96785853e-02],\n",
              "       [ 3.34941838e-01,  4.01936155e-01,  2.97773404e-01],\n",
              "       [ 3.08559770e-02,  4.12679142e-01, -7.05891000e-02],\n",
              "       [ 3.31338297e-01,  2.69832520e-01, -2.26542234e-03],\n",
              "       [-3.25248675e-02,  4.59852304e-01, -2.58640393e-02],\n",
              "       [-3.63261832e-01,  3.91179206e-01,  2.04869769e-01],\n",
              "       [-2.58928676e-01,  2.82827496e-01,  2.96623319e-01],\n",
              "       [ 1.22122333e-03,  3.83225395e-01,  4.17794196e-02],\n",
              "       [ 3.11152099e-01,  2.70193984e-01,  2.17647294e-01],\n",
              "       [ 9.92201563e-02,  5.07021835e-01, -2.50921420e-02],\n",
              "       [ 1.87326999e-02,  4.56899550e-01,  1.71632372e-01],\n",
              "       [-6.13720074e-02,  7.77543093e-01,  1.19972783e-01],\n",
              "       [-2.53109370e-02,  5.59167632e-01, -7.61543923e-02],\n",
              "       [ 1.25729314e-03,  4.42898174e-01,  2.61314493e-02],\n",
              "       [ 5.12737594e-01,  1.71179320e-01, -1.53565684e-01],\n",
              "       [ 9.10642272e-02,  4.11366678e-01,  9.96796260e-02],\n",
              "       [-2.20708758e-01,  3.59648556e-01,  2.59844294e-01],\n",
              "       [-3.57855636e-01,  2.43309637e-01,  8.42716998e-01],\n",
              "       [ 1.96736866e-01,  2.68406268e-01,  6.16934914e-01],\n",
              "       [ 4.66832534e-02,  1.02594073e-01,  5.03622760e-01],\n",
              "       [-2.76379590e-01,  3.48247689e-01,  5.37753132e-01],\n",
              "       [-5.80494972e-02,  4.43300887e-01,  1.64156604e-01],\n",
              "       [-5.61569953e-02,  2.89123497e-01,  1.73356777e-01],\n",
              "       [ 3.18351542e-01,  3.69040098e-01,  4.57377787e-01],\n",
              "       [ 6.16894441e-02,  4.30372899e-01,  1.83272862e-01],\n",
              "       [ 3.35113252e-01,  2.33117539e-01,  2.95707037e-01],\n",
              "       [ 3.38878410e-01, -1.63054182e-02, -4.79279883e-01],\n",
              "       [ 5.25473386e-01, -6.85182058e-02, -2.43307989e-01],\n",
              "       [ 6.10608687e-01, -3.87597325e-02, -2.15905351e-01],\n",
              "       [ 4.70503301e-01, -7.80055196e-02, -1.83536000e-01],\n",
              "       [ 5.59522391e-01,  4.55607505e-02, -2.45582167e-01],\n",
              "       [ 7.00887626e-01, -1.05783625e-01, -1.50630859e-01],\n",
              "       [ 8.68367098e-01, -4.07280841e-02,  8.93501911e-02],\n",
              "       [ 8.62780923e-01, -7.82006550e-02,  4.55886195e-01],\n",
              "       [ 6.83749542e-01, -1.33888807e-01, -4.14526159e-02],\n",
              "       [ 4.90719365e-01,  5.56742597e-04,  1.77978734e-01],\n",
              "       [ 5.69453098e-01,  5.36461511e-03,  5.77923213e-02],\n",
              "       [ 4.24677352e-01, -9.95305796e-02, -1.81825789e-01],\n",
              "       [ 6.15620030e-01, -4.77516359e-02,  8.84780308e-02],\n",
              "       [ 5.22173329e-01, -1.38443762e-01,  1.55467738e-01],\n",
              "       [ 4.77614572e-01, -2.27298230e-01, -1.56309972e-01],\n",
              "       [ 5.79679657e-01, -1.57739251e-01, -8.44694328e-02],\n",
              "       [ 9.15216446e-01, -2.14231373e-01, -7.52525382e-02],\n",
              "       [ 7.36788844e-01, -2.52267555e-01,  1.53564951e-01],\n",
              "       [ 6.03862841e-01, -3.27962913e-01, -7.15404405e-04],\n",
              "       [ 6.54244135e-01, -3.78555154e-01, -4.59399169e-02],\n",
              "       [ 5.20842263e-01, -3.83062058e-01, -6.03885819e-02],\n",
              "       [ 5.49621418e-01, -3.34917377e-01, -1.34801184e-01],\n",
              "       [ 4.06086595e-01, -1.90280414e-01,  9.63300475e-03],\n",
              "       [ 6.67875156e-01, -4.47135704e-01,  1.32207978e-02],\n",
              "       [ 6.26785798e-01, -8.89615490e-02, -2.70046574e-01],\n",
              "       [ 8.17055087e-01, -3.91798468e-01,  2.51375642e-01],\n",
              "       [ 6.50979872e-01, -4.12211745e-01,  7.12472619e-02],\n",
              "       [ 7.13430627e-01, -2.04371473e-01,  2.48155448e-01],\n",
              "       [ 2.56575999e-01, -6.45305842e-01,  2.48195757e-01],\n",
              "       [ 3.73642517e-01, -4.43532276e-01,  1.18289977e-01],\n",
              "       [ 6.75012039e-01, -1.43459280e-01,  1.27050764e-01],\n",
              "       [ 5.17484679e-01, -2.29187276e-01, -4.05135616e-02],\n",
              "       [ 6.26069565e-01, -4.62805195e-02,  1.40376429e-01],\n",
              "       [ 5.79008532e-01, -1.39074816e-01, -1.41461865e-01],\n",
              "       [ 6.24375675e-01, -3.48868312e-01, -1.59914402e-01],\n",
              "       [ 7.66349788e-01, -2.23018532e-01,  7.28732854e-02],\n",
              "       [ 5.63011192e-01, -4.76565598e-01,  7.38944930e-02],\n",
              "       [ 6.24388906e-01, -2.88769367e-01, -1.43864266e-01],\n",
              "       [ 4.72514206e-01, -3.60781032e-01,  2.12186739e-02],\n",
              "       [ 4.82393361e-01, -4.15988803e-01,  2.50430782e-01],\n",
              "       [ 6.79182280e-01,  6.57518884e-02, -1.68719824e-01],\n",
              "       [ 7.74530367e-01, -1.81913660e-01, -2.12942019e-01],\n",
              "       [ 5.37656394e-01, -4.62404696e-01, -1.37018996e-01],\n",
              "       [ 7.39509503e-01, -4.71901149e-01,  2.09360327e-01],\n",
              "       [ 5.81781139e-01, -3.48365752e-01,  8.35902851e-02],\n",
              "       [ 6.26312888e-01, -5.46857013e-01, -3.04947552e-02],\n",
              "       [ 5.72991102e-01, -4.25516087e-01, -9.45367174e-02],\n",
              "       [ 7.01763997e-01, -5.13504983e-01,  2.93909961e-01]])"
            ]
          },
          "metadata": {},
          "execution_count": 22
        }
      ]
    },
    {
      "cell_type": "code",
      "source": [
        "var = pca.explained_variance_ratio_ \n",
        "var"
      ],
      "metadata": {
        "colab": {
          "base_uri": "https://localhost:8080/"
        },
        "id": "Ea6rhpZg0bRX",
        "outputId": "9855ab8b-2a60-4481-c046-11616eb6eeb7"
      },
      "execution_count": 23,
      "outputs": [
        {
          "output_type": "execute_result",
          "data": {
            "text/plain": [
              "array([0.40749485, 0.18970352, 0.08561671])"
            ]
          },
          "metadata": {},
          "execution_count": 23
        }
      ]
    },
    {
      "cell_type": "code",
      "source": [
        "#Cumulative variance \n",
        "var1 = np.cumsum(np.round(var, 4)*100)\n",
        "var1  "
      ],
      "metadata": {
        "colab": {
          "base_uri": "https://localhost:8080/"
        },
        "id": "bU9betRf0xSy",
        "outputId": "6dd6b58a-526d-4687-fa2a-5c36a35996cc"
      },
      "execution_count": 24,
      "outputs": [
        {
          "output_type": "execute_result",
          "data": {
            "text/plain": [
              "array([40.75, 59.72, 68.28])"
            ]
          },
          "metadata": {},
          "execution_count": 24
        }
      ]
    },
    {
      "cell_type": "code",
      "source": [
        "# Creating a df with PC0, PC1, PC2 columns for clustering purpose.\n",
        "\n",
        "wine_norm_pca = pd.DataFrame(data=pca_values, columns=['PC0', 'PC1', 'PC2'])\n",
        "wine_norm_pca.head()"
      ],
      "metadata": {
        "colab": {
          "base_uri": "https://localhost:8080/",
          "height": 206
        },
        "id": "uCY6diAS0zf1",
        "outputId": "33c0ca0e-6459-448c-a066-d86c22769175"
      },
      "execution_count": 25,
      "outputs": [
        {
          "output_type": "execute_result",
          "data": {
            "text/plain": [
              "        PC0       PC1       PC2\n",
              "0 -0.706336 -0.253193  0.024093\n",
              "1 -0.484977 -0.008823 -0.280482\n",
              "2 -0.521172 -0.189187  0.196217\n",
              "3 -0.821644 -0.580906  0.081110\n",
              "4 -0.202546 -0.059467  0.300240"
            ],
            "text/html": [
              "\n",
              "  <div id=\"df-07d17ab1-d040-4b01-b186-d908ce56d6d3\">\n",
              "    <div class=\"colab-df-container\">\n",
              "      <div>\n",
              "<style scoped>\n",
              "    .dataframe tbody tr th:only-of-type {\n",
              "        vertical-align: middle;\n",
              "    }\n",
              "\n",
              "    .dataframe tbody tr th {\n",
              "        vertical-align: top;\n",
              "    }\n",
              "\n",
              "    .dataframe thead th {\n",
              "        text-align: right;\n",
              "    }\n",
              "</style>\n",
              "<table border=\"1\" class=\"dataframe\">\n",
              "  <thead>\n",
              "    <tr style=\"text-align: right;\">\n",
              "      <th></th>\n",
              "      <th>PC0</th>\n",
              "      <th>PC1</th>\n",
              "      <th>PC2</th>\n",
              "    </tr>\n",
              "  </thead>\n",
              "  <tbody>\n",
              "    <tr>\n",
              "      <th>0</th>\n",
              "      <td>-0.706336</td>\n",
              "      <td>-0.253193</td>\n",
              "      <td>0.024093</td>\n",
              "    </tr>\n",
              "    <tr>\n",
              "      <th>1</th>\n",
              "      <td>-0.484977</td>\n",
              "      <td>-0.008823</td>\n",
              "      <td>-0.280482</td>\n",
              "    </tr>\n",
              "    <tr>\n",
              "      <th>2</th>\n",
              "      <td>-0.521172</td>\n",
              "      <td>-0.189187</td>\n",
              "      <td>0.196217</td>\n",
              "    </tr>\n",
              "    <tr>\n",
              "      <th>3</th>\n",
              "      <td>-0.821644</td>\n",
              "      <td>-0.580906</td>\n",
              "      <td>0.081110</td>\n",
              "    </tr>\n",
              "    <tr>\n",
              "      <th>4</th>\n",
              "      <td>-0.202546</td>\n",
              "      <td>-0.059467</td>\n",
              "      <td>0.300240</td>\n",
              "    </tr>\n",
              "  </tbody>\n",
              "</table>\n",
              "</div>\n",
              "      <button class=\"colab-df-convert\" onclick=\"convertToInteractive('df-07d17ab1-d040-4b01-b186-d908ce56d6d3')\"\n",
              "              title=\"Convert this dataframe to an interactive table.\"\n",
              "              style=\"display:none;\">\n",
              "        \n",
              "  <svg xmlns=\"http://www.w3.org/2000/svg\" height=\"24px\"viewBox=\"0 0 24 24\"\n",
              "       width=\"24px\">\n",
              "    <path d=\"M0 0h24v24H0V0z\" fill=\"none\"/>\n",
              "    <path d=\"M18.56 5.44l.94 2.06.94-2.06 2.06-.94-2.06-.94-.94-2.06-.94 2.06-2.06.94zm-11 1L8.5 8.5l.94-2.06 2.06-.94-2.06-.94L8.5 2.5l-.94 2.06-2.06.94zm10 10l.94 2.06.94-2.06 2.06-.94-2.06-.94-.94-2.06-.94 2.06-2.06.94z\"/><path d=\"M17.41 7.96l-1.37-1.37c-.4-.4-.92-.59-1.43-.59-.52 0-1.04.2-1.43.59L10.3 9.45l-7.72 7.72c-.78.78-.78 2.05 0 2.83L4 21.41c.39.39.9.59 1.41.59.51 0 1.02-.2 1.41-.59l7.78-7.78 2.81-2.81c.8-.78.8-2.07 0-2.86zM5.41 20L4 18.59l7.72-7.72 1.47 1.35L5.41 20z\"/>\n",
              "  </svg>\n",
              "      </button>\n",
              "      \n",
              "  <style>\n",
              "    .colab-df-container {\n",
              "      display:flex;\n",
              "      flex-wrap:wrap;\n",
              "      gap: 12px;\n",
              "    }\n",
              "\n",
              "    .colab-df-convert {\n",
              "      background-color: #E8F0FE;\n",
              "      border: none;\n",
              "      border-radius: 50%;\n",
              "      cursor: pointer;\n",
              "      display: none;\n",
              "      fill: #1967D2;\n",
              "      height: 32px;\n",
              "      padding: 0 0 0 0;\n",
              "      width: 32px;\n",
              "    }\n",
              "\n",
              "    .colab-df-convert:hover {\n",
              "      background-color: #E2EBFA;\n",
              "      box-shadow: 0px 1px 2px rgba(60, 64, 67, 0.3), 0px 1px 3px 1px rgba(60, 64, 67, 0.15);\n",
              "      fill: #174EA6;\n",
              "    }\n",
              "\n",
              "    [theme=dark] .colab-df-convert {\n",
              "      background-color: #3B4455;\n",
              "      fill: #D2E3FC;\n",
              "    }\n",
              "\n",
              "    [theme=dark] .colab-df-convert:hover {\n",
              "      background-color: #434B5C;\n",
              "      box-shadow: 0px 1px 3px 1px rgba(0, 0, 0, 0.15);\n",
              "      filter: drop-shadow(0px 1px 2px rgba(0, 0, 0, 0.3));\n",
              "      fill: #FFFFFF;\n",
              "    }\n",
              "  </style>\n",
              "\n",
              "      <script>\n",
              "        const buttonEl =\n",
              "          document.querySelector('#df-07d17ab1-d040-4b01-b186-d908ce56d6d3 button.colab-df-convert');\n",
              "        buttonEl.style.display =\n",
              "          google.colab.kernel.accessAllowed ? 'block' : 'none';\n",
              "\n",
              "        async function convertToInteractive(key) {\n",
              "          const element = document.querySelector('#df-07d17ab1-d040-4b01-b186-d908ce56d6d3');\n",
              "          const dataTable =\n",
              "            await google.colab.kernel.invokeFunction('convertToInteractive',\n",
              "                                                     [key], {});\n",
              "          if (!dataTable) return;\n",
              "\n",
              "          const docLinkHtml = 'Like what you see? Visit the ' +\n",
              "            '<a target=\"_blank\" href=https://colab.research.google.com/notebooks/data_table.ipynb>data table notebook</a>'\n",
              "            + ' to learn more about interactive tables.';\n",
              "          element.innerHTML = '';\n",
              "          dataTable['output_type'] = 'display_data';\n",
              "          await google.colab.output.renderOutput(dataTable, element);\n",
              "          const docLink = document.createElement('div');\n",
              "          docLink.innerHTML = docLinkHtml;\n",
              "          element.appendChild(docLink);\n",
              "        }\n",
              "      </script>\n",
              "    </div>\n",
              "  </div>\n",
              "  "
            ]
          },
          "metadata": {},
          "execution_count": 25
        }
      ]
    },
    {
      "cell_type": "markdown",
      "source": [
        "# **Hierarchical Clustering**"
      ],
      "metadata": {
        "id": "y2jiDoOh1KQ5"
      }
    },
    {
      "cell_type": "code",
      "source": [
        "import scipy.cluster.hierarchy as sch\n",
        "from sklearn.cluster import AgglomerativeClustering, KMeans\n",
        "from sklearn.metrics import silhouette_score as sil "
      ],
      "metadata": {
        "id": "6HTYJ8mn02H5"
      },
      "execution_count": 26,
      "outputs": []
    },
    {
      "cell_type": "code",
      "source": [
        "#normalised PCA data\n",
        "plt.figure(figsize=(20,8))\n",
        "dendrogram = sch.dendrogram(sch.linkage(wine_norm_pca, method= 'complete'))\n"
      ],
      "metadata": {
        "colab": {
          "base_uri": "https://localhost:8080/",
          "height": 269
        },
        "id": "1Q3G-T7v1XWp",
        "outputId": "72c6f969-5488-41a2-e6f2-247dc04385b7"
      },
      "execution_count": 29,
      "outputs": [
        {
          "output_type": "display_data",
          "data": {
            "text/plain": [
              "<Figure size 1440x576 with 1 Axes>"
            ],
            "image/png": "[encoded data removed]"
          },
          "metadata": {
            "needs_background": "light"
          }
        }
      ]
    },
    {
      "cell_type": "code",
      "source": [
        "plt.figure(figsize=(20,8))\n",
        "dendrogram = sch.dendrogram(sch.linkage(wine_norm_pca, method= 'single'))"
      ],
      "metadata": {
        "colab": {
          "base_uri": "https://localhost:8080/",
          "height": 271
        },
        "id": "VaTX7OFn2QxK",
        "outputId": "ce4da4b8-30e3-4b85-c265-38a3ed1456a4"
      },
      "execution_count": 30,
      "outputs": [
        {
          "output_type": "display_data",
          "data": {
            "text/plain": [
              "<Figure size 1440x576 with 1 Axes>"
            ],
            "image/png": "[encoded data removed]"
          },
          "metadata": {
            "needs_background": "light"
          }
        }
      ]
    },
    {
      "cell_type": "code",
      "source": [
        "plt.figure(figsize=(20,8))\n",
        "dendrogram = sch.dendrogram(sch.linkage(wine_norm_pca, method= 'average'))"
      ],
      "metadata": {
        "colab": {
          "base_uri": "https://localhost:8080/",
          "height": 271
        },
        "id": "NOJJhLf42c2W",
        "outputId": "235184aa-f1f8-4e1b-8fad-9e44b3649dbd"
      },
      "execution_count": 31,
      "outputs": [
        {
          "output_type": "display_data",
          "data": {
            "text/plain": [
              "<Figure size 1440x576 with 1 Axes>"
            ],
            "image/png": "[encoded data removed]"
          },
          "metadata": {
            "needs_background": "light"
          }
        }
      ]
    },
    {
      "cell_type": "code",
      "source": [
        "plt.figure(figsize=(20,8))\n",
        "dendrogram = sch.dendrogram(sch.linkage(wine_norm_pca, method= 'ward'))"
      ],
      "metadata": {
        "colab": {
          "base_uri": "https://localhost:8080/",
          "height": 273
        },
        "id": "uwf5Ihxd2hpT",
        "outputId": "d6460ec8-8330-4368-9ed2-ddd06b604b89"
      },
      "execution_count": 32,
      "outputs": [
        {
          "output_type": "display_data",
          "data": {
            "text/plain": [
              "<Figure size 1440x576 with 1 Axes>"
            ],
            "image/png": "[encoded data removed]"
          },
          "metadata": {
            "needs_background": "light"
          }
        }
      ]
    },
    {
      "cell_type": "code",
      "source": [
        "linkages = ['complete' , 'single' , 'ward' , 'average']\n",
        "\n",
        "for i in range (2,6):\n",
        "    for x in linkages:\n",
        "        hc=AgglomerativeClustering(n_clusters= i, linkage=x)\n",
        "        y_hc=hc.fit_predict(wine_norm_pca)\n",
        "        sil_score = sil(wine_norm_pca, y_hc)\n",
        "        print('For n=',i,'and linkage =', x, 'Silhouette score is', np.round(sil_score,4))\n"
      ],
      "metadata": {
        "colab": {
          "base_uri": "https://localhost:8080/"
        },
        "id": "-dZuWHZe2lDd",
        "outputId": "9350eb5f-8386-4e33-a9b0-0503724c24df"
      },
      "execution_count": 33,
      "outputs": [
        {
          "output_type": "stream",
          "name": "stdout",
          "text": [
            "For n= 2 and linkage = complete Silhouette score is 0.3385\n",
            "For n= 2 and linkage = single Silhouette score is 0.2657\n",
            "For n= 2 and linkage = ward Silhouette score is 0.4276\n",
            "For n= 2 and linkage = average Silhouette score is 0.2657\n",
            "For n= 3 and linkage = complete Silhouette score is 0.2801\n",
            "For n= 3 and linkage = single Silhouette score is 0.1421\n",
            "For n= 3 and linkage = ward Silhouette score is 0.4596\n",
            "For n= 3 and linkage = average Silhouette score is 0.3905\n",
            "For n= 4 and linkage = complete Silhouette score is 0.4451\n",
            "For n= 4 and linkage = single Silhouette score is -0.0004\n",
            "For n= 4 and linkage = ward Silhouette score is 0.4238\n",
            "For n= 4 and linkage = average Silhouette score is 0.4472\n",
            "For n= 5 and linkage = complete Silhouette score is 0.4163\n",
            "For n= 5 and linkage = single Silhouette score is -0.2007\n",
            "For n= 5 and linkage = ward Silhouette score is 0.3587\n",
            "For n= 5 and linkage = average Silhouette score is 0.4308\n"
          ]
        }
      ]
    },
    {
      "cell_type": "markdown",
      "source": [
        "Silhouette score is maximum( 0.4596) for: n= 3 and linkage = ward"
      ],
      "metadata": {
        "id": "lVwWDUnW3DdI"
      }
    },
    {
      "cell_type": "code",
      "source": [
        "# create clusters with ward linkage and n_clusters = 3\n",
        "hc=AgglomerativeClustering(n_clusters= 3, linkage='ward', affinity='euclidean')\n",
        "y_hc=hc.fit_predict(wine_norm_pca)"
      ],
      "metadata": {
        "id": "3dtVtls120iA"
      },
      "execution_count": 34,
      "outputs": []
    },
    {
      "cell_type": "code",
      "source": [
        "wine_og=pd.read_csv('/content/wine (1).csv')"
      ],
      "metadata": {
        "id": "Pfj03AE04C2k"
      },
      "execution_count": 37,
      "outputs": []
    },
    {
      "cell_type": "code",
      "source": [
        "wine_og['ClusterId_hc_norm']=y_hc"
      ],
      "metadata": {
        "id": "hsxK3Bnt3N8c"
      },
      "execution_count": 40,
      "outputs": []
    },
    {
      "cell_type": "code",
      "source": [
        "wine_og[['Type', 'ClusterId_hc_norm']].head()"
      ],
      "metadata": {
        "colab": {
          "base_uri": "https://localhost:8080/",
          "height": 206
        },
        "id": "GDxCK1Ck3heg",
        "outputId": "2279038c-2eaa-49c1-8397-907ddd31bd9e"
      },
      "execution_count": 41,
      "outputs": [
        {
          "output_type": "execute_result",
          "data": {
            "text/plain": [
              "   Type  ClusterId_hc_norm\n",
              "0     1                  2\n",
              "1     1                  2\n",
              "2     1                  2\n",
              "3     1                  2\n",
              "4     1                  0"
            ],
            "text/html": [
              "\n",
              "  <div id=\"df-a5b30b2c-e331-466b-82f6-1045947ce060\">\n",
              "    <div class=\"colab-df-container\">\n",
              "      <div>\n",
              "<style scoped>\n",
              "    .dataframe tbody tr th:only-of-type {\n",
              "        vertical-align: middle;\n",
              "    }\n",
              "\n",
              "    .dataframe tbody tr th {\n",
              "        vertical-align: top;\n",
              "    }\n",
              "\n",
              "    .dataframe thead th {\n",
              "        text-align: right;\n",
              "    }\n",
              "</style>\n",
              "<table border=\"1\" class=\"dataframe\">\n",
              "  <thead>\n",
              "    <tr style=\"text-align: right;\">\n",
              "      <th></th>\n",
              "      <th>Type</th>\n",
              "      <th>ClusterId_hc_norm</th>\n",
              "    </tr>\n",
              "  </thead>\n",
              "  <tbody>\n",
              "    <tr>\n",
              "      <th>0</th>\n",
              "      <td>1</td>\n",
              "      <td>2</td>\n",
              "    </tr>\n",
              "    <tr>\n",
              "      <th>1</th>\n",
              "      <td>1</td>\n",
              "      <td>2</td>\n",
              "    </tr>\n",
              "    <tr>\n",
              "      <th>2</th>\n",
              "      <td>1</td>\n",
              "      <td>2</td>\n",
              "    </tr>\n",
              "    <tr>\n",
              "      <th>3</th>\n",
              "      <td>1</td>\n",
              "      <td>2</td>\n",
              "    </tr>\n",
              "    <tr>\n",
              "      <th>4</th>\n",
              "      <td>1</td>\n",
              "      <td>0</td>\n",
              "    </tr>\n",
              "  </tbody>\n",
              "</table>\n",
              "</div>\n",
              "      <button class=\"colab-df-convert\" onclick=\"convertToInteractive('df-a5b30b2c-e331-466b-82f6-1045947ce060')\"\n",
              "              title=\"Convert this dataframe to an interactive table.\"\n",
              "              style=\"display:none;\">\n",
              "        \n",
              "  <svg xmlns=\"http://www.w3.org/2000/svg\" height=\"24px\"viewBox=\"0 0 24 24\"\n",
              "       width=\"24px\">\n",
              "    <path d=\"M0 0h24v24H0V0z\" fill=\"none\"/>\n",
              "    <path d=\"M18.56 5.44l.94 2.06.94-2.06 2.06-.94-2.06-.94-.94-2.06-.94 2.06-2.06.94zm-11 1L8.5 8.5l.94-2.06 2.06-.94-2.06-.94L8.5 2.5l-.94 2.06-2.06.94zm10 10l.94 2.06.94-2.06 2.06-.94-2.06-.94-.94-2.06-.94 2.06-2.06.94z\"/><path d=\"M17.41 7.96l-1.37-1.37c-.4-.4-.92-.59-1.43-.59-.52 0-1.04.2-1.43.59L10.3 9.45l-7.72 7.72c-.78.78-.78 2.05 0 2.83L4 21.41c.39.39.9.59 1.41.59.51 0 1.02-.2 1.41-.59l7.78-7.78 2.81-2.81c.8-.78.8-2.07 0-2.86zM5.41 20L4 18.59l7.72-7.72 1.47 1.35L5.41 20z\"/>\n",
              "  </svg>\n",
              "      </button>\n",
              "      \n",
              "  <style>\n",
              "    .colab-df-container {\n",
              "      display:flex;\n",
              "      flex-wrap:wrap;\n",
              "      gap: 12px;\n",
              "    }\n",
              "\n",
              "    .colab-df-convert {\n",
              "      background-color: #E8F0FE;\n",
              "      border: none;\n",
              "      border-radius: 50%;\n",
              "      cursor: pointer;\n",
              "      display: none;\n",
              "      fill: #1967D2;\n",
              "      height: 32px;\n",
              "      padding: 0 0 0 0;\n",
              "      width: 32px;\n",
              "    }\n",
              "\n",
              "    .colab-df-convert:hover {\n",
              "      background-color: #E2EBFA;\n",
              "      box-shadow: 0px 1px 2px rgba(60, 64, 67, 0.3), 0px 1px 3px 1px rgba(60, 64, 67, 0.15);\n",
              "      fill: #174EA6;\n",
              "    }\n",
              "\n",
              "    [theme=dark] .colab-df-convert {\n",
              "      background-color: #3B4455;\n",
              "      fill: #D2E3FC;\n",
              "    }\n",
              "\n",
              "    [theme=dark] .colab-df-convert:hover {\n",
              "      background-color: #434B5C;\n",
              "      box-shadow: 0px 1px 3px 1px rgba(0, 0, 0, 0.15);\n",
              "      filter: drop-shadow(0px 1px 2px rgba(0, 0, 0, 0.3));\n",
              "      fill: #FFFFFF;\n",
              "    }\n",
              "  </style>\n",
              "\n",
              "      <script>\n",
              "        const buttonEl =\n",
              "          document.querySelector('#df-a5b30b2c-e331-466b-82f6-1045947ce060 button.colab-df-convert');\n",
              "        buttonEl.style.display =\n",
              "          google.colab.kernel.accessAllowed ? 'block' : 'none';\n",
              "\n",
              "        async function convertToInteractive(key) {\n",
              "          const element = document.querySelector('#df-a5b30b2c-e331-466b-82f6-1045947ce060');\n",
              "          const dataTable =\n",
              "            await google.colab.kernel.invokeFunction('convertToInteractive',\n",
              "                                                     [key], {});\n",
              "          if (!dataTable) return;\n",
              "\n",
              "          const docLinkHtml = 'Like what you see? Visit the ' +\n",
              "            '<a target=\"_blank\" href=https://colab.research.google.com/notebooks/data_table.ipynb>data table notebook</a>'\n",
              "            + ' to learn more about interactive tables.';\n",
              "          element.innerHTML = '';\n",
              "          dataTable['output_type'] = 'display_data';\n",
              "          await google.colab.output.renderOutput(dataTable, element);\n",
              "          const docLink = document.createElement('div');\n",
              "          docLink.innerHTML = docLinkHtml;\n",
              "          element.appendChild(docLink);\n",
              "        }\n",
              "      </script>\n",
              "    </div>\n",
              "  </div>\n",
              "  "
            ]
          },
          "metadata": {},
          "execution_count": 41
        }
      ]
    },
    {
      "cell_type": "markdown",
      "source": [
        "Type 1 is categorised into clusterId 2\n",
        "\n",
        "Type 2 is categorised into clusterId 0\n",
        "\n",
        "Type 3 is categorised into ClusterId 1"
      ],
      "metadata": {
        "id": "vVszyg_a4fWn"
      }
    },
    {
      "cell_type": "code",
      "source": [
        "wine_og.groupby('ClusterId_hc_norm').agg(['mean'])"
      ],
      "metadata": {
        "colab": {
          "base_uri": "https://localhost:8080/",
          "height": 270
        },
        "id": "kN50cnUr4f8P",
        "outputId": "9b61ecec-a50a-40b8-a543-b79748fb4b5e"
      },
      "execution_count": 42,
      "outputs": [
        {
          "output_type": "execute_result",
          "data": {
            "text/plain": [
              "                       Type    Alcohol     Malic       Ash Alcalinity  \\\n",
              "                       mean       mean      mean      mean       mean   \n",
              "ClusterId_hc_norm                                                       \n",
              "0                  1.941176  12.287794  2.037353  2.276765  20.144118   \n",
              "1                  2.959184  13.149796  3.386939  2.427755  21.397959   \n",
              "2                  1.114754  13.675410  1.825738  2.417377  17.242623   \n",
              "\n",
              "                    Magnesium   Phenols Flavanoids Nonflavanoids  \\\n",
              "                         mean      mean       mean          mean   \n",
              "ClusterId_hc_norm                                                  \n",
              "0                   95.088235  2.197206   2.044853      0.369559   \n",
              "1                   98.163265  1.680612   0.797959      0.455306   \n",
              "2                  106.196721  2.897869   3.000984      0.278197   \n",
              "\n",
              "                  Proanthocyanins     Color       Hue  Dilution      Proline  \n",
              "                             mean      mean      mean      mean         mean  \n",
              "ClusterId_hc_norm                                                             \n",
              "0                        1.591765  3.077941  1.043324  2.784265   527.617647  \n",
              "1                        1.160816  7.328980  0.684694  1.707143   622.285714  \n",
              "2                        1.935410  5.441311  1.080820  3.145902  1091.426230  "
            ],
            "text/html": [
              "\n",
              "  <div id=\"df-071fa837-e1cb-4fce-98d8-8259c701e360\">\n",
              "    <div class=\"colab-df-container\">\n",
              "      <div>\n",
              "<style scoped>\n",
              "    .dataframe tbody tr th:only-of-type {\n",
              "        vertical-align: middle;\n",
              "    }\n",
              "\n",
              "    .dataframe tbody tr th {\n",
              "        vertical-align: top;\n",
              "    }\n",
              "\n",
              "    .dataframe thead tr th {\n",
              "        text-align: left;\n",
              "    }\n",
              "\n",
              "    .dataframe thead tr:last-of-type th {\n",
              "        text-align: right;\n",
              "    }\n",
              "</style>\n",
              "<table border=\"1\" class=\"dataframe\">\n",
              "  <thead>\n",
              "    <tr>\n",
              "      <th></th>\n",
              "      <th>Type</th>\n",
              "      <th>Alcohol</th>\n",
              "      <th>Malic</th>\n",
              "      <th>Ash</th>\n",
              "      <th>Alcalinity</th>\n",
              "      <th>Magnesium</th>\n",
              "      <th>Phenols</th>\n",
              "      <th>Flavanoids</th>\n",
              "      <th>Nonflavanoids</th>\n",
              "      <th>Proanthocyanins</th>\n",
              "      <th>Color</th>\n",
              "      <th>Hue</th>\n",
              "      <th>Dilution</th>\n",
              "      <th>Proline</th>\n",
              "    </tr>\n",
              "    <tr>\n",
              "      <th></th>\n",
              "      <th>mean</th>\n",
              "      <th>mean</th>\n",
              "      <th>mean</th>\n",
              "      <th>mean</th>\n",
              "      <th>mean</th>\n",
              "      <th>mean</th>\n",
              "      <th>mean</th>\n",
              "      <th>mean</th>\n",
              "      <th>mean</th>\n",
              "      <th>mean</th>\n",
              "      <th>mean</th>\n",
              "      <th>mean</th>\n",
              "      <th>mean</th>\n",
              "      <th>mean</th>\n",
              "    </tr>\n",
              "    <tr>\n",
              "      <th>ClusterId_hc_norm</th>\n",
              "      <th></th>\n",
              "      <th></th>\n",
              "      <th></th>\n",
              "      <th></th>\n",
              "      <th></th>\n",
              "      <th></th>\n",
              "      <th></th>\n",
              "      <th></th>\n",
              "      <th></th>\n",
              "      <th></th>\n",
              "      <th></th>\n",
              "      <th></th>\n",
              "      <th></th>\n",
              "      <th></th>\n",
              "    </tr>\n",
              "  </thead>\n",
              "  <tbody>\n",
              "    <tr>\n",
              "      <th>0</th>\n",
              "      <td>1.941176</td>\n",
              "      <td>12.287794</td>\n",
              "      <td>2.037353</td>\n",
              "      <td>2.276765</td>\n",
              "      <td>20.144118</td>\n",
              "      <td>95.088235</td>\n",
              "      <td>2.197206</td>\n",
              "      <td>2.044853</td>\n",
              "      <td>0.369559</td>\n",
              "      <td>1.591765</td>\n",
              "      <td>3.077941</td>\n",
              "      <td>1.043324</td>\n",
              "      <td>2.784265</td>\n",
              "      <td>527.617647</td>\n",
              "    </tr>\n",
              "    <tr>\n",
              "      <th>1</th>\n",
              "      <td>2.959184</td>\n",
              "      <td>13.149796</td>\n",
              "      <td>3.386939</td>\n",
              "      <td>2.427755</td>\n",
              "      <td>21.397959</td>\n",
              "      <td>98.163265</td>\n",
              "      <td>1.680612</td>\n",
              "      <td>0.797959</td>\n",
              "      <td>0.455306</td>\n",
              "      <td>1.160816</td>\n",
              "      <td>7.328980</td>\n",
              "      <td>0.684694</td>\n",
              "      <td>1.707143</td>\n",
              "      <td>622.285714</td>\n",
              "    </tr>\n",
              "    <tr>\n",
              "      <th>2</th>\n",
              "      <td>1.114754</td>\n",
              "      <td>13.675410</td>\n",
              "      <td>1.825738</td>\n",
              "      <td>2.417377</td>\n",
              "      <td>17.242623</td>\n",
              "      <td>106.196721</td>\n",
              "      <td>2.897869</td>\n",
              "      <td>3.000984</td>\n",
              "      <td>0.278197</td>\n",
              "      <td>1.935410</td>\n",
              "      <td>5.441311</td>\n",
              "      <td>1.080820</td>\n",
              "      <td>3.145902</td>\n",
              "      <td>1091.426230</td>\n",
              "    </tr>\n",
              "  </tbody>\n",
              "</table>\n",
              "</div>\n",
              "      <button class=\"colab-df-convert\" onclick=\"convertToInteractive('df-071fa837-e1cb-4fce-98d8-8259c701e360')\"\n",
              "              title=\"Convert this dataframe to an interactive table.\"\n",
              "              style=\"display:none;\">\n",
              "        \n",
              "  <svg xmlns=\"http://www.w3.org/2000/svg\" height=\"24px\"viewBox=\"0 0 24 24\"\n",
              "       width=\"24px\">\n",
              "    <path d=\"M0 0h24v24H0V0z\" fill=\"none\"/>\n",
              "    <path d=\"M18.56 5.44l.94 2.06.94-2.06 2.06-.94-2.06-.94-.94-2.06-.94 2.06-2.06.94zm-11 1L8.5 8.5l.94-2.06 2.06-.94-2.06-.94L8.5 2.5l-.94 2.06-2.06.94zm10 10l.94 2.06.94-2.06 2.06-.94-2.06-.94-.94-2.06-.94 2.06-2.06.94z\"/><path d=\"M17.41 7.96l-1.37-1.37c-.4-.4-.92-.59-1.43-.59-.52 0-1.04.2-1.43.59L10.3 9.45l-7.72 7.72c-.78.78-.78 2.05 0 2.83L4 21.41c.39.39.9.59 1.41.59.51 0 1.02-.2 1.41-.59l7.78-7.78 2.81-2.81c.8-.78.8-2.07 0-2.86zM5.41 20L4 18.59l7.72-7.72 1.47 1.35L5.41 20z\"/>\n",
              "  </svg>\n",
              "      </button>\n",
              "      \n",
              "  <style>\n",
              "    .colab-df-container {\n",
              "      display:flex;\n",
              "      flex-wrap:wrap;\n",
              "      gap: 12px;\n",
              "    }\n",
              "\n",
              "    .colab-df-convert {\n",
              "      background-color: #E8F0FE;\n",
              "      border: none;\n",
              "      border-radius: 50%;\n",
              "      cursor: pointer;\n",
              "      display: none;\n",
              "      fill: #1967D2;\n",
              "      height: 32px;\n",
              "      padding: 0 0 0 0;\n",
              "      width: 32px;\n",
              "    }\n",
              "\n",
              "    .colab-df-convert:hover {\n",
              "      background-color: #E2EBFA;\n",
              "      box-shadow: 0px 1px 2px rgba(60, 64, 67, 0.3), 0px 1px 3px 1px rgba(60, 64, 67, 0.15);\n",
              "      fill: #174EA6;\n",
              "    }\n",
              "\n",
              "    [theme=dark] .colab-df-convert {\n",
              "      background-color: #3B4455;\n",
              "      fill: #D2E3FC;\n",
              "    }\n",
              "\n",
              "    [theme=dark] .colab-df-convert:hover {\n",
              "      background-color: #434B5C;\n",
              "      box-shadow: 0px 1px 3px 1px rgba(0, 0, 0, 0.15);\n",
              "      filter: drop-shadow(0px 1px 2px rgba(0, 0, 0, 0.3));\n",
              "      fill: #FFFFFF;\n",
              "    }\n",
              "  </style>\n",
              "\n",
              "      <script>\n",
              "        const buttonEl =\n",
              "          document.querySelector('#df-071fa837-e1cb-4fce-98d8-8259c701e360 button.colab-df-convert');\n",
              "        buttonEl.style.display =\n",
              "          google.colab.kernel.accessAllowed ? 'block' : 'none';\n",
              "\n",
              "        async function convertToInteractive(key) {\n",
              "          const element = document.querySelector('#df-071fa837-e1cb-4fce-98d8-8259c701e360');\n",
              "          const dataTable =\n",
              "            await google.colab.kernel.invokeFunction('convertToInteractive',\n",
              "                                                     [key], {});\n",
              "          if (!dataTable) return;\n",
              "\n",
              "          const docLinkHtml = 'Like what you see? Visit the ' +\n",
              "            '<a target=\"_blank\" href=https://colab.research.google.com/notebooks/data_table.ipynb>data table notebook</a>'\n",
              "            + ' to learn more about interactive tables.';\n",
              "          element.innerHTML = '';\n",
              "          dataTable['output_type'] = 'display_data';\n",
              "          await google.colab.output.renderOutput(dataTable, element);\n",
              "          const docLink = document.createElement('div');\n",
              "          docLink.innerHTML = docLinkHtml;\n",
              "          element.appendChild(docLink);\n",
              "        }\n",
              "      </script>\n",
              "    </div>\n",
              "  </div>\n",
              "  "
            ]
          },
          "metadata": {},
          "execution_count": 42
        }
      ]
    },
    {
      "cell_type": "code",
      "source": [
        "wine_og.groupby('Type').agg(['mean'])"
      ],
      "metadata": {
        "colab": {
          "base_uri": "https://localhost:8080/",
          "height": 270
        },
        "id": "L4u82U6D4jPz",
        "outputId": "0c75ad90-63bd-4589-d092-4c3343aa7df3"
      },
      "execution_count": 43,
      "outputs": [
        {
          "output_type": "execute_result",
          "data": {
            "text/plain": [
              "        Alcohol     Malic       Ash Alcalinity   Magnesium   Phenols  \\\n",
              "           mean      mean      mean       mean        mean      mean   \n",
              "Type                                                                   \n",
              "1     13.744746  2.010678  2.455593  17.037288  106.338983  2.840169   \n",
              "2     12.278732  1.932676  2.244789  20.238028   94.549296  2.258873   \n",
              "3     13.153750  3.333750  2.437083  21.416667   99.312500  1.678750   \n",
              "\n",
              "     Flavanoids Nonflavanoids Proanthocyanins     Color       Hue  Dilution  \\\n",
              "           mean          mean            mean      mean      mean      mean   \n",
              "Type                                                                          \n",
              "1      2.982373      0.290000        1.899322  5.528305  1.062034  3.157797   \n",
              "2      2.080845      0.363662        1.630282  3.086620  1.056282  2.785352   \n",
              "3      0.781458      0.447500        1.153542  7.396250  0.682708  1.683542   \n",
              "\n",
              "          Proline ClusterId_hc_norm  \n",
              "             mean              mean  \n",
              "Type                                 \n",
              "1     1115.711864          1.830508  \n",
              "2      519.507042          0.225352  \n",
              "3      629.895833          0.979167  "
            ],
            "text/html": [
              "\n",
              "  <div id=\"df-8153d7eb-1e57-4297-ba39-2e67769f89e6\">\n",
              "    <div class=\"colab-df-container\">\n",
              "      <div>\n",
              "<style scoped>\n",
              "    .dataframe tbody tr th:only-of-type {\n",
              "        vertical-align: middle;\n",
              "    }\n",
              "\n",
              "    .dataframe tbody tr th {\n",
              "        vertical-align: top;\n",
              "    }\n",
              "\n",
              "    .dataframe thead tr th {\n",
              "        text-align: left;\n",
              "    }\n",
              "\n",
              "    .dataframe thead tr:last-of-type th {\n",
              "        text-align: right;\n",
              "    }\n",
              "</style>\n",
              "<table border=\"1\" class=\"dataframe\">\n",
              "  <thead>\n",
              "    <tr>\n",
              "      <th></th>\n",
              "      <th>Alcohol</th>\n",
              "      <th>Malic</th>\n",
              "      <th>Ash</th>\n",
              "      <th>Alcalinity</th>\n",
              "      <th>Magnesium</th>\n",
              "      <th>Phenols</th>\n",
              "      <th>Flavanoids</th>\n",
              "      <th>Nonflavanoids</th>\n",
              "      <th>Proanthocyanins</th>\n",
              "      <th>Color</th>\n",
              "      <th>Hue</th>\n",
              "      <th>Dilution</th>\n",
              "      <th>Proline</th>\n",
              "      <th>ClusterId_hc_norm</th>\n",
              "    </tr>\n",
              "    <tr>\n",
              "      <th></th>\n",
              "      <th>mean</th>\n",
              "      <th>mean</th>\n",
              "      <th>mean</th>\n",
              "      <th>mean</th>\n",
              "      <th>mean</th>\n",
              "      <th>mean</th>\n",
              "      <th>mean</th>\n",
              "      <th>mean</th>\n",
              "      <th>mean</th>\n",
              "      <th>mean</th>\n",
              "      <th>mean</th>\n",
              "      <th>mean</th>\n",
              "      <th>mean</th>\n",
              "      <th>mean</th>\n",
              "    </tr>\n",
              "    <tr>\n",
              "      <th>Type</th>\n",
              "      <th></th>\n",
              "      <th></th>\n",
              "      <th></th>\n",
              "      <th></th>\n",
              "      <th></th>\n",
              "      <th></th>\n",
              "      <th></th>\n",
              "      <th></th>\n",
              "      <th></th>\n",
              "      <th></th>\n",
              "      <th></th>\n",
              "      <th></th>\n",
              "      <th></th>\n",
              "      <th></th>\n",
              "    </tr>\n",
              "  </thead>\n",
              "  <tbody>\n",
              "    <tr>\n",
              "      <th>1</th>\n",
              "      <td>13.744746</td>\n",
              "      <td>2.010678</td>\n",
              "      <td>2.455593</td>\n",
              "      <td>17.037288</td>\n",
              "      <td>106.338983</td>\n",
              "      <td>2.840169</td>\n",
              "      <td>2.982373</td>\n",
              "      <td>0.290000</td>\n",
              "      <td>1.899322</td>\n",
              "      <td>5.528305</td>\n",
              "      <td>1.062034</td>\n",
              "      <td>3.157797</td>\n",
              "      <td>1115.711864</td>\n",
              "      <td>1.830508</td>\n",
              "    </tr>\n",
              "    <tr>\n",
              "      <th>2</th>\n",
              "      <td>12.278732</td>\n",
              "      <td>1.932676</td>\n",
              "      <td>2.244789</td>\n",
              "      <td>20.238028</td>\n",
              "      <td>94.549296</td>\n",
              "      <td>2.258873</td>\n",
              "      <td>2.080845</td>\n",
              "      <td>0.363662</td>\n",
              "      <td>1.630282</td>\n",
              "      <td>3.086620</td>\n",
              "      <td>1.056282</td>\n",
              "      <td>2.785352</td>\n",
              "      <td>519.507042</td>\n",
              "      <td>0.225352</td>\n",
              "    </tr>\n",
              "    <tr>\n",
              "      <th>3</th>\n",
              "      <td>13.153750</td>\n",
              "      <td>3.333750</td>\n",
              "      <td>2.437083</td>\n",
              "      <td>21.416667</td>\n",
              "      <td>99.312500</td>\n",
              "      <td>1.678750</td>\n",
              "      <td>0.781458</td>\n",
              "      <td>0.447500</td>\n",
              "      <td>1.153542</td>\n",
              "      <td>7.396250</td>\n",
              "      <td>0.682708</td>\n",
              "      <td>1.683542</td>\n",
              "      <td>629.895833</td>\n",
              "      <td>0.979167</td>\n",
              "    </tr>\n",
              "  </tbody>\n",
              "</table>\n",
              "</div>\n",
              "      <button class=\"colab-df-convert\" onclick=\"convertToInteractive('df-8153d7eb-1e57-4297-ba39-2e67769f89e6')\"\n",
              "              title=\"Convert this dataframe to an interactive table.\"\n",
              "              style=\"display:none;\">\n",
              "        \n",
              "  <svg xmlns=\"http://www.w3.org/2000/svg\" height=\"24px\"viewBox=\"0 0 24 24\"\n",
              "       width=\"24px\">\n",
              "    <path d=\"M0 0h24v24H0V0z\" fill=\"none\"/>\n",
              "    <path d=\"M18.56 5.44l.94 2.06.94-2.06 2.06-.94-2.06-.94-.94-2.06-.94 2.06-2.06.94zm-11 1L8.5 8.5l.94-2.06 2.06-.94-2.06-.94L8.5 2.5l-.94 2.06-2.06.94zm10 10l.94 2.06.94-2.06 2.06-.94-2.06-.94-.94-2.06-.94 2.06-2.06.94z\"/><path d=\"M17.41 7.96l-1.37-1.37c-.4-.4-.92-.59-1.43-.59-.52 0-1.04.2-1.43.59L10.3 9.45l-7.72 7.72c-.78.78-.78 2.05 0 2.83L4 21.41c.39.39.9.59 1.41.59.51 0 1.02-.2 1.41-.59l7.78-7.78 2.81-2.81c.8-.78.8-2.07 0-2.86zM5.41 20L4 18.59l7.72-7.72 1.47 1.35L5.41 20z\"/>\n",
              "  </svg>\n",
              "      </button>\n",
              "      \n",
              "  <style>\n",
              "    .colab-df-container {\n",
              "      display:flex;\n",
              "      flex-wrap:wrap;\n",
              "      gap: 12px;\n",
              "    }\n",
              "\n",
              "    .colab-df-convert {\n",
              "      background-color: #E8F0FE;\n",
              "      border: none;\n",
              "      border-radius: 50%;\n",
              "      cursor: pointer;\n",
              "      display: none;\n",
              "      fill: #1967D2;\n",
              "      height: 32px;\n",
              "      padding: 0 0 0 0;\n",
              "      width: 32px;\n",
              "    }\n",
              "\n",
              "    .colab-df-convert:hover {\n",
              "      background-color: #E2EBFA;\n",
              "      box-shadow: 0px 1px 2px rgba(60, 64, 67, 0.3), 0px 1px 3px 1px rgba(60, 64, 67, 0.15);\n",
              "      fill: #174EA6;\n",
              "    }\n",
              "\n",
              "    [theme=dark] .colab-df-convert {\n",
              "      background-color: #3B4455;\n",
              "      fill: #D2E3FC;\n",
              "    }\n",
              "\n",
              "    [theme=dark] .colab-df-convert:hover {\n",
              "      background-color: #434B5C;\n",
              "      box-shadow: 0px 1px 3px 1px rgba(0, 0, 0, 0.15);\n",
              "      filter: drop-shadow(0px 1px 2px rgba(0, 0, 0, 0.3));\n",
              "      fill: #FFFFFF;\n",
              "    }\n",
              "  </style>\n",
              "\n",
              "      <script>\n",
              "        const buttonEl =\n",
              "          document.querySelector('#df-8153d7eb-1e57-4297-ba39-2e67769f89e6 button.colab-df-convert');\n",
              "        buttonEl.style.display =\n",
              "          google.colab.kernel.accessAllowed ? 'block' : 'none';\n",
              "\n",
              "        async function convertToInteractive(key) {\n",
              "          const element = document.querySelector('#df-8153d7eb-1e57-4297-ba39-2e67769f89e6');\n",
              "          const dataTable =\n",
              "            await google.colab.kernel.invokeFunction('convertToInteractive',\n",
              "                                                     [key], {});\n",
              "          if (!dataTable) return;\n",
              "\n",
              "          const docLinkHtml = 'Like what you see? Visit the ' +\n",
              "            '<a target=\"_blank\" href=https://colab.research.google.com/notebooks/data_table.ipynb>data table notebook</a>'\n",
              "            + ' to learn more about interactive tables.';\n",
              "          element.innerHTML = '';\n",
              "          dataTable['output_type'] = 'display_data';\n",
              "          await google.colab.output.renderOutput(dataTable, element);\n",
              "          const docLink = document.createElement('div');\n",
              "          docLink.innerHTML = docLinkHtml;\n",
              "          element.appendChild(docLink);\n",
              "        }\n",
              "      </script>\n",
              "    </div>\n",
              "  </div>\n",
              "  "
            ]
          },
          "metadata": {},
          "execution_count": 43
        }
      ]
    },
    {
      "cell_type": "markdown",
      "source": [
        "As we can see from above 2 tables that there is negligible difference between clusters made by algorithm and pre defined clusters of original data set."
      ],
      "metadata": {
        "id": "24ho08vC47_y"
      }
    },
    {
      "cell_type": "code",
      "source": [
        "plt.figure(figsize=(20,8))\n",
        "plt.scatter(wine_norm_pca.iloc[:,0] , wine_norm_pca.iloc[:,1], c=wine_og.ClusterId_hc_norm)\n",
        "\n",
        "plt.title('PCA plot in 2D')\n",
        "plt.xlabel('PC1')\n",
        "plt.ylabel('PC2')\n",
        "plt.show()"
      ],
      "metadata": {
        "colab": {
          "base_uri": "https://localhost:8080/",
          "height": 280
        },
        "id": "mkQugtGr4s7m",
        "outputId": "35e338a9-af24-4e56-db2e-34ac6f73fffd"
      },
      "execution_count": 44,
      "outputs": [
        {
          "output_type": "display_data",
          "data": {
            "text/plain": [
              "<Figure size 1440x576 with 1 Axes>"
            ],
            "image/png": "[encoded data removed]"
          },
          "metadata": {
            "needs_background": "light"
          }
        }
      ]
    },
    {
      "cell_type": "markdown",
      "source": [
        "**KMeans Clustering**"
      ],
      "metadata": {
        "id": "alKzMgvo506h"
      }
    },
    {
      "cell_type": "code",
      "source": [
        "#Elbow Method for Determining no of cluster\n",
        "wcss = []\n",
        "\n",
        "for i in range (2, 7):\n",
        "    kmeans = KMeans(n_clusters=i, random_state=0)\n",
        "    kmeans.fit(wine_norm_pca)\n",
        "    wcss.append(kmeans.inertia_)\n",
        "    \n",
        "wcss "
      ],
      "metadata": {
        "colab": {
          "base_uri": "https://localhost:8080/"
        },
        "id": "z8svToBO4_xW",
        "outputId": "76cb4601-7001-4c4a-ccc4-561b8ce7982f"
      },
      "execution_count": 45,
      "outputs": [
        {
          "output_type": "execute_result",
          "data": {
            "text/plain": [
              "[34.29463958796957,\n",
              " 18.938260830466444,\n",
              " 15.666001148083446,\n",
              " 13.485591049749885,\n",
              " 11.515332566227983]"
            ]
          },
          "metadata": {},
          "execution_count": 45
        }
      ]
    },
    {
      "cell_type": "code",
      "source": [
        "plt.plot(range(2, 7), wcss)\n",
        "plt.title('Elbow Method')\n",
        "plt.xlabel('Number of clusters')\n",
        "plt.ylabel('WCSS')\n",
        "plt.show()"
      ],
      "metadata": {
        "colab": {
          "base_uri": "https://localhost:8080/",
          "height": 295
        },
        "id": "bP5Fw53p6IvD",
        "outputId": "7ffa37de-7bf6-49b7-9ebd-3852c7565b87"
      },
      "execution_count": 46,
      "outputs": [
        {
          "output_type": "display_data",
          "data": {
            "text/plain": [
              "<Figure size 432x288 with 1 Axes>"
            ],
            "image/png": "[encoded data removed]"
          },
          "metadata": {
            "needs_background": "light"
          }
        }
      ]
    },
    {
      "cell_type": "markdown",
      "source": [
        "Clear elbow is visible at n = 3"
      ],
      "metadata": {
        "id": "mBjoY3qo6Sr4"
      }
    },
    {
      "cell_type": "code",
      "source": [
        "clusters = KMeans(n_clusters=3, random_state= 1)\n",
        "clusters.fit(wine_norm_pca)"
      ],
      "metadata": {
        "colab": {
          "base_uri": "https://localhost:8080/"
        },
        "id": "cPmMWPod6Nl2",
        "outputId": "635ce615-2bbd-41dd-afc6-474c2dc11cfa"
      },
      "execution_count": 47,
      "outputs": [
        {
          "output_type": "execute_result",
          "data": {
            "text/plain": [
              "KMeans(n_clusters=3, random_state=1)"
            ]
          },
          "metadata": {},
          "execution_count": 47
        }
      ]
    },
    {
      "cell_type": "code",
      "source": [
        "clusters.labels_"
      ],
      "metadata": {
        "colab": {
          "base_uri": "https://localhost:8080/"
        },
        "id": "GdP1zsaB6Ymo",
        "outputId": "d0baab23-24b4-4af6-dd58-7ff1e97a253f"
      },
      "execution_count": 48,
      "outputs": [
        {
          "output_type": "execute_result",
          "data": {
            "text/plain": [
              "array([1, 1, 1, 1, 1, 1, 1, 1, 1, 1, 1, 1, 1, 1, 1, 1, 1, 1, 1, 1, 1, 1,\n",
              "       1, 1, 1, 1, 1, 1, 1, 1, 1, 1, 1, 1, 1, 1, 1, 1, 1, 1, 1, 1, 1, 1,\n",
              "       1, 1, 1, 1, 1, 1, 1, 1, 1, 1, 1, 1, 1, 1, 1, 2, 2, 0, 2, 2, 2, 2,\n",
              "       1, 2, 2, 2, 2, 1, 2, 1, 1, 2, 2, 2, 2, 2, 2, 2, 2, 0, 2, 2, 2, 2,\n",
              "       2, 2, 2, 2, 2, 2, 2, 1, 2, 2, 1, 2, 2, 2, 2, 2, 2, 2, 2, 2, 2, 2,\n",
              "       2, 2, 2, 2, 2, 2, 2, 2, 0, 2, 2, 2, 2, 2, 2, 2, 2, 2, 2, 2, 0, 0,\n",
              "       0, 0, 0, 0, 0, 0, 0, 0, 0, 0, 0, 0, 0, 0, 0, 0, 0, 0, 0, 0, 0, 0,\n",
              "       0, 0, 0, 0, 0, 0, 0, 0, 0, 0, 0, 0, 0, 0, 0, 0, 0, 0, 0, 0, 0, 0,\n",
              "       0, 0], dtype=int32)"
            ]
          },
          "metadata": {},
          "execution_count": 48
        }
      ]
    },
    {
      "cell_type": "code",
      "source": [
        "wine_og['ClusterId_kmean_norm'] = clusters.labels_ "
      ],
      "metadata": {
        "id": "UKwQWb_q6b6x"
      },
      "execution_count": 49,
      "outputs": []
    },
    {
      "cell_type": "code",
      "source": [
        "wine_og[['Type' , 'ClusterId_kmean_norm']] "
      ],
      "metadata": {
        "colab": {
          "base_uri": "https://localhost:8080/",
          "height": 424
        },
        "id": "hsqwDJGV6jM1",
        "outputId": "b4d8ef17-5239-4849-8f03-cf604350e982"
      },
      "execution_count": 50,
      "outputs": [
        {
          "output_type": "execute_result",
          "data": {
            "text/plain": [
              "     Type  ClusterId_kmean_norm\n",
              "0       1                     1\n",
              "1       1                     1\n",
              "2       1                     1\n",
              "3       1                     1\n",
              "4       1                     1\n",
              "..    ...                   ...\n",
              "173     3                     0\n",
              "174     3                     0\n",
              "175     3                     0\n",
              "176     3                     0\n",
              "177     3                     0\n",
              "\n",
              "[178 rows x 2 columns]"
            ],
            "text/html": [
              "\n",
              "  <div id=\"df-faee239b-1599-40aa-a935-8ff60147c7c3\">\n",
              "    <div class=\"colab-df-container\">\n",
              "      <div>\n",
              "<style scoped>\n",
              "    .dataframe tbody tr th:only-of-type {\n",
              "        vertical-align: middle;\n",
              "    }\n",
              "\n",
              "    .dataframe tbody tr th {\n",
              "        vertical-align: top;\n",
              "    }\n",
              "\n",
              "    .dataframe thead th {\n",
              "        text-align: right;\n",
              "    }\n",
              "</style>\n",
              "<table border=\"1\" class=\"dataframe\">\n",
              "  <thead>\n",
              "    <tr style=\"text-align: right;\">\n",
              "      <th></th>\n",
              "      <th>Type</th>\n",
              "      <th>ClusterId_kmean_norm</th>\n",
              "    </tr>\n",
              "  </thead>\n",
              "  <tbody>\n",
              "    <tr>\n",
              "      <th>0</th>\n",
              "      <td>1</td>\n",
              "      <td>1</td>\n",
              "    </tr>\n",
              "    <tr>\n",
              "      <th>1</th>\n",
              "      <td>1</td>\n",
              "      <td>1</td>\n",
              "    </tr>\n",
              "    <tr>\n",
              "      <th>2</th>\n",
              "      <td>1</td>\n",
              "      <td>1</td>\n",
              "    </tr>\n",
              "    <tr>\n",
              "      <th>3</th>\n",
              "      <td>1</td>\n",
              "      <td>1</td>\n",
              "    </tr>\n",
              "    <tr>\n",
              "      <th>4</th>\n",
              "      <td>1</td>\n",
              "      <td>1</td>\n",
              "    </tr>\n",
              "    <tr>\n",
              "      <th>...</th>\n",
              "      <td>...</td>\n",
              "      <td>...</td>\n",
              "    </tr>\n",
              "    <tr>\n",
              "      <th>173</th>\n",
              "      <td>3</td>\n",
              "      <td>0</td>\n",
              "    </tr>\n",
              "    <tr>\n",
              "      <th>174</th>\n",
              "      <td>3</td>\n",
              "      <td>0</td>\n",
              "    </tr>\n",
              "    <tr>\n",
              "      <th>175</th>\n",
              "      <td>3</td>\n",
              "      <td>0</td>\n",
              "    </tr>\n",
              "    <tr>\n",
              "      <th>176</th>\n",
              "      <td>3</td>\n",
              "      <td>0</td>\n",
              "    </tr>\n",
              "    <tr>\n",
              "      <th>177</th>\n",
              "      <td>3</td>\n",
              "      <td>0</td>\n",
              "    </tr>\n",
              "  </tbody>\n",
              "</table>\n",
              "<p>178 rows × 2 columns</p>\n",
              "</div>\n",
              "      <button class=\"colab-df-convert\" onclick=\"convertToInteractive('df-faee239b-1599-40aa-a935-8ff60147c7c3')\"\n",
              "              title=\"Convert this dataframe to an interactive table.\"\n",
              "              style=\"display:none;\">\n",
              "        \n",
              "  <svg xmlns=\"http://www.w3.org/2000/svg\" height=\"24px\"viewBox=\"0 0 24 24\"\n",
              "       width=\"24px\">\n",
              "    <path d=\"M0 0h24v24H0V0z\" fill=\"none\"/>\n",
              "    <path d=\"M18.56 5.44l.94 2.06.94-2.06 2.06-.94-2.06-.94-.94-2.06-.94 2.06-2.06.94zm-11 1L8.5 8.5l.94-2.06 2.06-.94-2.06-.94L8.5 2.5l-.94 2.06-2.06.94zm10 10l.94 2.06.94-2.06 2.06-.94-2.06-.94-.94-2.06-.94 2.06-2.06.94z\"/><path d=\"M17.41 7.96l-1.37-1.37c-.4-.4-.92-.59-1.43-.59-.52 0-1.04.2-1.43.59L10.3 9.45l-7.72 7.72c-.78.78-.78 2.05 0 2.83L4 21.41c.39.39.9.59 1.41.59.51 0 1.02-.2 1.41-.59l7.78-7.78 2.81-2.81c.8-.78.8-2.07 0-2.86zM5.41 20L4 18.59l7.72-7.72 1.47 1.35L5.41 20z\"/>\n",
              "  </svg>\n",
              "      </button>\n",
              "      \n",
              "  <style>\n",
              "    .colab-df-container {\n",
              "      display:flex;\n",
              "      flex-wrap:wrap;\n",
              "      gap: 12px;\n",
              "    }\n",
              "\n",
              "    .colab-df-convert {\n",
              "      background-color: #E8F0FE;\n",
              "      border: none;\n",
              "      border-radius: 50%;\n",
              "      cursor: pointer;\n",
              "      display: none;\n",
              "      fill: #1967D2;\n",
              "      height: 32px;\n",
              "      padding: 0 0 0 0;\n",
              "      width: 32px;\n",
              "    }\n",
              "\n",
              "    .colab-df-convert:hover {\n",
              "      background-color: #E2EBFA;\n",
              "      box-shadow: 0px 1px 2px rgba(60, 64, 67, 0.3), 0px 1px 3px 1px rgba(60, 64, 67, 0.15);\n",
              "      fill: #174EA6;\n",
              "    }\n",
              "\n",
              "    [theme=dark] .colab-df-convert {\n",
              "      background-color: #3B4455;\n",
              "      fill: #D2E3FC;\n",
              "    }\n",
              "\n",
              "    [theme=dark] .colab-df-convert:hover {\n",
              "      background-color: #434B5C;\n",
              "      box-shadow: 0px 1px 3px 1px rgba(0, 0, 0, 0.15);\n",
              "      filter: drop-shadow(0px 1px 2px rgba(0, 0, 0, 0.3));\n",
              "      fill: #FFFFFF;\n",
              "    }\n",
              "  </style>\n",
              "\n",
              "      <script>\n",
              "        const buttonEl =\n",
              "          document.querySelector('#df-faee239b-1599-40aa-a935-8ff60147c7c3 button.colab-df-convert');\n",
              "        buttonEl.style.display =\n",
              "          google.colab.kernel.accessAllowed ? 'block' : 'none';\n",
              "\n",
              "        async function convertToInteractive(key) {\n",
              "          const element = document.querySelector('#df-faee239b-1599-40aa-a935-8ff60147c7c3');\n",
              "          const dataTable =\n",
              "            await google.colab.kernel.invokeFunction('convertToInteractive',\n",
              "                                                     [key], {});\n",
              "          if (!dataTable) return;\n",
              "\n",
              "          const docLinkHtml = 'Like what you see? Visit the ' +\n",
              "            '<a target=\"_blank\" href=https://colab.research.google.com/notebooks/data_table.ipynb>data table notebook</a>'\n",
              "            + ' to learn more about interactive tables.';\n",
              "          element.innerHTML = '';\n",
              "          dataTable['output_type'] = 'display_data';\n",
              "          await google.colab.output.renderOutput(dataTable, element);\n",
              "          const docLink = document.createElement('div');\n",
              "          docLink.innerHTML = docLinkHtml;\n",
              "          element.appendChild(docLink);\n",
              "        }\n",
              "      </script>\n",
              "    </div>\n",
              "  </div>\n",
              "  "
            ]
          },
          "metadata": {},
          "execution_count": 50
        }
      ]
    },
    {
      "cell_type": "code",
      "source": [
        "wine_og.groupby('ClusterId_kmean_norm').agg(['mean'])"
      ],
      "metadata": {
        "colab": {
          "base_uri": "https://localhost:8080/",
          "height": 270
        },
        "id": "IdwoozU36luD",
        "outputId": "bad861ea-ed59-4cb9-adb1-9908c1a4e010"
      },
      "execution_count": 51,
      "outputs": [
        {
          "output_type": "execute_result",
          "data": {
            "text/plain": [
              "                          Type    Alcohol     Malic       Ash Alcalinity  \\\n",
              "                          mean       mean      mean      mean       mean   \n",
              "ClusterId_kmean_norm                                                       \n",
              "0                     2.941176  13.134118  3.307255  2.417647  21.241176   \n",
              "1                     1.092308  13.656923  1.946154  2.437692  17.441538   \n",
              "2                     2.000000  12.202742  1.946774  2.249839  20.211290   \n",
              "\n",
              "                       Magnesium   Phenols Flavanoids Nonflavanoids  \\\n",
              "                            mean      mean       mean          mean   \n",
              "ClusterId_kmean_norm                                                  \n",
              "0                      98.666667  1.683922   0.818824      0.451961   \n",
              "1                     106.584615  2.864615   2.970000      0.284308   \n",
              "2                      93.451613  2.200806   2.038710      0.369032   \n",
              "\n",
              "                     Proanthocyanins     Color       Hue  Dilution  \\\n",
              "                                mean      mean      mean      mean   \n",
              "ClusterId_kmean_norm                                                 \n",
              "0                           1.145882  7.234706  0.691961  1.696667   \n",
              "1                           1.923846  5.361692  1.071385  3.148923   \n",
              "2                           1.607903  2.949355  1.056387  2.801129   \n",
              "\n",
              "                          Proline ClusterId_hc_norm  \n",
              "                             mean              mean  \n",
              "ClusterId_kmean_norm                                 \n",
              "0                      619.058824          0.960784  \n",
              "1                     1080.107692          1.846154  \n",
              "2                      502.709677          0.032258  "
            ],
            "text/html": [
              "\n",
              "  <div id=\"df-53171c35-2a52-4bd2-8dd2-92a6f2441f62\">\n",
              "    <div class=\"colab-df-container\">\n",
              "      <div>\n",
              "<style scoped>\n",
              "    .dataframe tbody tr th:only-of-type {\n",
              "        vertical-align: middle;\n",
              "    }\n",
              "\n",
              "    .dataframe tbody tr th {\n",
              "        vertical-align: top;\n",
              "    }\n",
              "\n",
              "    .dataframe thead tr th {\n",
              "        text-align: left;\n",
              "    }\n",
              "\n",
              "    .dataframe thead tr:last-of-type th {\n",
              "        text-align: right;\n",
              "    }\n",
              "</style>\n",
              "<table border=\"1\" class=\"dataframe\">\n",
              "  <thead>\n",
              "    <tr>\n",
              "      <th></th>\n",
              "      <th>Type</th>\n",
              "      <th>Alcohol</th>\n",
              "      <th>Malic</th>\n",
              "      <th>Ash</th>\n",
              "      <th>Alcalinity</th>\n",
              "      <th>Magnesium</th>\n",
              "      <th>Phenols</th>\n",
              "      <th>Flavanoids</th>\n",
              "      <th>Nonflavanoids</th>\n",
              "      <th>Proanthocyanins</th>\n",
              "      <th>Color</th>\n",
              "      <th>Hue</th>\n",
              "      <th>Dilution</th>\n",
              "      <th>Proline</th>\n",
              "      <th>ClusterId_hc_norm</th>\n",
              "    </tr>\n",
              "    <tr>\n",
              "      <th></th>\n",
              "      <th>mean</th>\n",
              "      <th>mean</th>\n",
              "      <th>mean</th>\n",
              "      <th>mean</th>\n",
              "      <th>mean</th>\n",
              "      <th>mean</th>\n",
              "      <th>mean</th>\n",
              "      <th>mean</th>\n",
              "      <th>mean</th>\n",
              "      <th>mean</th>\n",
              "      <th>mean</th>\n",
              "      <th>mean</th>\n",
              "      <th>mean</th>\n",
              "      <th>mean</th>\n",
              "      <th>mean</th>\n",
              "    </tr>\n",
              "    <tr>\n",
              "      <th>ClusterId_kmean_norm</th>\n",
              "      <th></th>\n",
              "      <th></th>\n",
              "      <th></th>\n",
              "      <th></th>\n",
              "      <th></th>\n",
              "      <th></th>\n",
              "      <th></th>\n",
              "      <th></th>\n",
              "      <th></th>\n",
              "      <th></th>\n",
              "      <th></th>\n",
              "      <th></th>\n",
              "      <th></th>\n",
              "      <th></th>\n",
              "      <th></th>\n",
              "    </tr>\n",
              "  </thead>\n",
              "  <tbody>\n",
              "    <tr>\n",
              "      <th>0</th>\n",
              "      <td>2.941176</td>\n",
              "      <td>13.134118</td>\n",
              "      <td>3.307255</td>\n",
              "      <td>2.417647</td>\n",
              "      <td>21.241176</td>\n",
              "      <td>98.666667</td>\n",
              "      <td>1.683922</td>\n",
              "      <td>0.818824</td>\n",
              "      <td>0.451961</td>\n",
              "      <td>1.145882</td>\n",
              "      <td>7.234706</td>\n",
              "      <td>0.691961</td>\n",
              "      <td>1.696667</td>\n",
              "      <td>619.058824</td>\n",
              "      <td>0.960784</td>\n",
              "    </tr>\n",
              "    <tr>\n",
              "      <th>1</th>\n",
              "      <td>1.092308</td>\n",
              "      <td>13.656923</td>\n",
              "      <td>1.946154</td>\n",
              "      <td>2.437692</td>\n",
              "      <td>17.441538</td>\n",
              "      <td>106.584615</td>\n",
              "      <td>2.864615</td>\n",
              "      <td>2.970000</td>\n",
              "      <td>0.284308</td>\n",
              "      <td>1.923846</td>\n",
              "      <td>5.361692</td>\n",
              "      <td>1.071385</td>\n",
              "      <td>3.148923</td>\n",
              "      <td>1080.107692</td>\n",
              "      <td>1.846154</td>\n",
              "    </tr>\n",
              "    <tr>\n",
              "      <th>2</th>\n",
              "      <td>2.000000</td>\n",
              "      <td>12.202742</td>\n",
              "      <td>1.946774</td>\n",
              "      <td>2.249839</td>\n",
              "      <td>20.211290</td>\n",
              "      <td>93.451613</td>\n",
              "      <td>2.200806</td>\n",
              "      <td>2.038710</td>\n",
              "      <td>0.369032</td>\n",
              "      <td>1.607903</td>\n",
              "      <td>2.949355</td>\n",
              "      <td>1.056387</td>\n",
              "      <td>2.801129</td>\n",
              "      <td>502.709677</td>\n",
              "      <td>0.032258</td>\n",
              "    </tr>\n",
              "  </tbody>\n",
              "</table>\n",
              "</div>\n",
              "      <button class=\"colab-df-convert\" onclick=\"convertToInteractive('df-53171c35-2a52-4bd2-8dd2-92a6f2441f62')\"\n",
              "              title=\"Convert this dataframe to an interactive table.\"\n",
              "              style=\"display:none;\">\n",
              "        \n",
              "  <svg xmlns=\"http://www.w3.org/2000/svg\" height=\"24px\"viewBox=\"0 0 24 24\"\n",
              "       width=\"24px\">\n",
              "    <path d=\"M0 0h24v24H0V0z\" fill=\"none\"/>\n",
              "    <path d=\"M18.56 5.44l.94 2.06.94-2.06 2.06-.94-2.06-.94-.94-2.06-.94 2.06-2.06.94zm-11 1L8.5 8.5l.94-2.06 2.06-.94-2.06-.94L8.5 2.5l-.94 2.06-2.06.94zm10 10l.94 2.06.94-2.06 2.06-.94-2.06-.94-.94-2.06-.94 2.06-2.06.94z\"/><path d=\"M17.41 7.96l-1.37-1.37c-.4-.4-.92-.59-1.43-.59-.52 0-1.04.2-1.43.59L10.3 9.45l-7.72 7.72c-.78.78-.78 2.05 0 2.83L4 21.41c.39.39.9.59 1.41.59.51 0 1.02-.2 1.41-.59l7.78-7.78 2.81-2.81c.8-.78.8-2.07 0-2.86zM5.41 20L4 18.59l7.72-7.72 1.47 1.35L5.41 20z\"/>\n",
              "  </svg>\n",
              "      </button>\n",
              "      \n",
              "  <style>\n",
              "    .colab-df-container {\n",
              "      display:flex;\n",
              "      flex-wrap:wrap;\n",
              "      gap: 12px;\n",
              "    }\n",
              "\n",
              "    .colab-df-convert {\n",
              "      background-color: #E8F0FE;\n",
              "      border: none;\n",
              "      border-radius: 50%;\n",
              "      cursor: pointer;\n",
              "      display: none;\n",
              "      fill: #1967D2;\n",
              "      height: 32px;\n",
              "      padding: 0 0 0 0;\n",
              "      width: 32px;\n",
              "    }\n",
              "\n",
              "    .colab-df-convert:hover {\n",
              "      background-color: #E2EBFA;\n",
              "      box-shadow: 0px 1px 2px rgba(60, 64, 67, 0.3), 0px 1px 3px 1px rgba(60, 64, 67, 0.15);\n",
              "      fill: #174EA6;\n",
              "    }\n",
              "\n",
              "    [theme=dark] .colab-df-convert {\n",
              "      background-color: #3B4455;\n",
              "      fill: #D2E3FC;\n",
              "    }\n",
              "\n",
              "    [theme=dark] .colab-df-convert:hover {\n",
              "      background-color: #434B5C;\n",
              "      box-shadow: 0px 1px 3px 1px rgba(0, 0, 0, 0.15);\n",
              "      filter: drop-shadow(0px 1px 2px rgba(0, 0, 0, 0.3));\n",
              "      fill: #FFFFFF;\n",
              "    }\n",
              "  </style>\n",
              "\n",
              "      <script>\n",
              "        const buttonEl =\n",
              "          document.querySelector('#df-53171c35-2a52-4bd2-8dd2-92a6f2441f62 button.colab-df-convert');\n",
              "        buttonEl.style.display =\n",
              "          google.colab.kernel.accessAllowed ? 'block' : 'none';\n",
              "\n",
              "        async function convertToInteractive(key) {\n",
              "          const element = document.querySelector('#df-53171c35-2a52-4bd2-8dd2-92a6f2441f62');\n",
              "          const dataTable =\n",
              "            await google.colab.kernel.invokeFunction('convertToInteractive',\n",
              "                                                     [key], {});\n",
              "          if (!dataTable) return;\n",
              "\n",
              "          const docLinkHtml = 'Like what you see? Visit the ' +\n",
              "            '<a target=\"_blank\" href=https://colab.research.google.com/notebooks/data_table.ipynb>data table notebook</a>'\n",
              "            + ' to learn more about interactive tables.';\n",
              "          element.innerHTML = '';\n",
              "          dataTable['output_type'] = 'display_data';\n",
              "          await google.colab.output.renderOutput(dataTable, element);\n",
              "          const docLink = document.createElement('div');\n",
              "          docLink.innerHTML = docLinkHtml;\n",
              "          element.appendChild(docLink);\n",
              "        }\n",
              "      </script>\n",
              "    </div>\n",
              "  </div>\n",
              "  "
            ]
          },
          "metadata": {},
          "execution_count": 51
        }
      ]
    },
    {
      "cell_type": "code",
      "source": [
        "wine_og.groupby('Type').agg(['mean'])"
      ],
      "metadata": {
        "colab": {
          "base_uri": "https://localhost:8080/",
          "height": 270
        },
        "id": "unxBfPvd6rBj",
        "outputId": "e39931e6-2d07-4463-e74b-846f35eba44c"
      },
      "execution_count": 52,
      "outputs": [
        {
          "output_type": "execute_result",
          "data": {
            "text/plain": [
              "        Alcohol     Malic       Ash Alcalinity   Magnesium   Phenols  \\\n",
              "           mean      mean      mean       mean        mean      mean   \n",
              "Type                                                                   \n",
              "1     13.744746  2.010678  2.455593  17.037288  106.338983  2.840169   \n",
              "2     12.278732  1.932676  2.244789  20.238028   94.549296  2.258873   \n",
              "3     13.153750  3.333750  2.437083  21.416667   99.312500  1.678750   \n",
              "\n",
              "     Flavanoids Nonflavanoids Proanthocyanins     Color       Hue  Dilution  \\\n",
              "           mean          mean            mean      mean      mean      mean   \n",
              "Type                                                                          \n",
              "1      2.982373      0.290000        1.899322  5.528305  1.062034  3.157797   \n",
              "2      2.080845      0.363662        1.630282  3.086620  1.056282  2.785352   \n",
              "3      0.781458      0.447500        1.153542  7.396250  0.682708  1.683542   \n",
              "\n",
              "          Proline ClusterId_hc_norm ClusterId_kmean_norm  \n",
              "             mean              mean                 mean  \n",
              "Type                                                      \n",
              "1     1115.711864          1.830508             1.000000  \n",
              "2      519.507042          0.225352             1.830986  \n",
              "3      629.895833          0.979167             0.000000  "
            ],
            "text/html": [
              "\n",
              "  <div id=\"df-b6ea5472-aaad-4860-b406-612dc2afa8b4\">\n",
              "    <div class=\"colab-df-container\">\n",
              "      <div>\n",
              "<style scoped>\n",
              "    .dataframe tbody tr th:only-of-type {\n",
              "        vertical-align: middle;\n",
              "    }\n",
              "\n",
              "    .dataframe tbody tr th {\n",
              "        vertical-align: top;\n",
              "    }\n",
              "\n",
              "    .dataframe thead tr th {\n",
              "        text-align: left;\n",
              "    }\n",
              "\n",
              "    .dataframe thead tr:last-of-type th {\n",
              "        text-align: right;\n",
              "    }\n",
              "</style>\n",
              "<table border=\"1\" class=\"dataframe\">\n",
              "  <thead>\n",
              "    <tr>\n",
              "      <th></th>\n",
              "      <th>Alcohol</th>\n",
              "      <th>Malic</th>\n",
              "      <th>Ash</th>\n",
              "      <th>Alcalinity</th>\n",
              "      <th>Magnesium</th>\n",
              "      <th>Phenols</th>\n",
              "      <th>Flavanoids</th>\n",
              "      <th>Nonflavanoids</th>\n",
              "      <th>Proanthocyanins</th>\n",
              "      <th>Color</th>\n",
              "      <th>Hue</th>\n",
              "      <th>Dilution</th>\n",
              "      <th>Proline</th>\n",
              "      <th>ClusterId_hc_norm</th>\n",
              "      <th>ClusterId_kmean_norm</th>\n",
              "    </tr>\n",
              "    <tr>\n",
              "      <th></th>\n",
              "      <th>mean</th>\n",
              "      <th>mean</th>\n",
              "      <th>mean</th>\n",
              "      <th>mean</th>\n",
              "      <th>mean</th>\n",
              "      <th>mean</th>\n",
              "      <th>mean</th>\n",
              "      <th>mean</th>\n",
              "      <th>mean</th>\n",
              "      <th>mean</th>\n",
              "      <th>mean</th>\n",
              "      <th>mean</th>\n",
              "      <th>mean</th>\n",
              "      <th>mean</th>\n",
              "      <th>mean</th>\n",
              "    </tr>\n",
              "    <tr>\n",
              "      <th>Type</th>\n",
              "      <th></th>\n",
              "      <th></th>\n",
              "      <th></th>\n",
              "      <th></th>\n",
              "      <th></th>\n",
              "      <th></th>\n",
              "      <th></th>\n",
              "      <th></th>\n",
              "      <th></th>\n",
              "      <th></th>\n",
              "      <th></th>\n",
              "      <th></th>\n",
              "      <th></th>\n",
              "      <th></th>\n",
              "      <th></th>\n",
              "    </tr>\n",
              "  </thead>\n",
              "  <tbody>\n",
              "    <tr>\n",
              "      <th>1</th>\n",
              "      <td>13.744746</td>\n",
              "      <td>2.010678</td>\n",
              "      <td>2.455593</td>\n",
              "      <td>17.037288</td>\n",
              "      <td>106.338983</td>\n",
              "      <td>2.840169</td>\n",
              "      <td>2.982373</td>\n",
              "      <td>0.290000</td>\n",
              "      <td>1.899322</td>\n",
              "      <td>5.528305</td>\n",
              "      <td>1.062034</td>\n",
              "      <td>3.157797</td>\n",
              "      <td>1115.711864</td>\n",
              "      <td>1.830508</td>\n",
              "      <td>1.000000</td>\n",
              "    </tr>\n",
              "    <tr>\n",
              "      <th>2</th>\n",
              "      <td>12.278732</td>\n",
              "      <td>1.932676</td>\n",
              "      <td>2.244789</td>\n",
              "      <td>20.238028</td>\n",
              "      <td>94.549296</td>\n",
              "      <td>2.258873</td>\n",
              "      <td>2.080845</td>\n",
              "      <td>0.363662</td>\n",
              "      <td>1.630282</td>\n",
              "      <td>3.086620</td>\n",
              "      <td>1.056282</td>\n",
              "      <td>2.785352</td>\n",
              "      <td>519.507042</td>\n",
              "      <td>0.225352</td>\n",
              "      <td>1.830986</td>\n",
              "    </tr>\n",
              "    <tr>\n",
              "      <th>3</th>\n",
              "      <td>13.153750</td>\n",
              "      <td>3.333750</td>\n",
              "      <td>2.437083</td>\n",
              "      <td>21.416667</td>\n",
              "      <td>99.312500</td>\n",
              "      <td>1.678750</td>\n",
              "      <td>0.781458</td>\n",
              "      <td>0.447500</td>\n",
              "      <td>1.153542</td>\n",
              "      <td>7.396250</td>\n",
              "      <td>0.682708</td>\n",
              "      <td>1.683542</td>\n",
              "      <td>629.895833</td>\n",
              "      <td>0.979167</td>\n",
              "      <td>0.000000</td>\n",
              "    </tr>\n",
              "  </tbody>\n",
              "</table>\n",
              "</div>\n",
              "      <button class=\"colab-df-convert\" onclick=\"convertToInteractive('df-b6ea5472-aaad-4860-b406-612dc2afa8b4')\"\n",
              "              title=\"Convert this dataframe to an interactive table.\"\n",
              "              style=\"display:none;\">\n",
              "        \n",
              "  <svg xmlns=\"http://www.w3.org/2000/svg\" height=\"24px\"viewBox=\"0 0 24 24\"\n",
              "       width=\"24px\">\n",
              "    <path d=\"M0 0h24v24H0V0z\" fill=\"none\"/>\n",
              "    <path d=\"M18.56 5.44l.94 2.06.94-2.06 2.06-.94-2.06-.94-.94-2.06-.94 2.06-2.06.94zm-11 1L8.5 8.5l.94-2.06 2.06-.94-2.06-.94L8.5 2.5l-.94 2.06-2.06.94zm10 10l.94 2.06.94-2.06 2.06-.94-2.06-.94-.94-2.06-.94 2.06-2.06.94z\"/><path d=\"M17.41 7.96l-1.37-1.37c-.4-.4-.92-.59-1.43-.59-.52 0-1.04.2-1.43.59L10.3 9.45l-7.72 7.72c-.78.78-.78 2.05 0 2.83L4 21.41c.39.39.9.59 1.41.59.51 0 1.02-.2 1.41-.59l7.78-7.78 2.81-2.81c.8-.78.8-2.07 0-2.86zM5.41 20L4 18.59l7.72-7.72 1.47 1.35L5.41 20z\"/>\n",
              "  </svg>\n",
              "      </button>\n",
              "      \n",
              "  <style>\n",
              "    .colab-df-container {\n",
              "      display:flex;\n",
              "      flex-wrap:wrap;\n",
              "      gap: 12px;\n",
              "    }\n",
              "\n",
              "    .colab-df-convert {\n",
              "      background-color: #E8F0FE;\n",
              "      border: none;\n",
              "      border-radius: 50%;\n",
              "      cursor: pointer;\n",
              "      display: none;\n",
              "      fill: #1967D2;\n",
              "      height: 32px;\n",
              "      padding: 0 0 0 0;\n",
              "      width: 32px;\n",
              "    }\n",
              "\n",
              "    .colab-df-convert:hover {\n",
              "      background-color: #E2EBFA;\n",
              "      box-shadow: 0px 1px 2px rgba(60, 64, 67, 0.3), 0px 1px 3px 1px rgba(60, 64, 67, 0.15);\n",
              "      fill: #174EA6;\n",
              "    }\n",
              "\n",
              "    [theme=dark] .colab-df-convert {\n",
              "      background-color: #3B4455;\n",
              "      fill: #D2E3FC;\n",
              "    }\n",
              "\n",
              "    [theme=dark] .colab-df-convert:hover {\n",
              "      background-color: #434B5C;\n",
              "      box-shadow: 0px 1px 3px 1px rgba(0, 0, 0, 0.15);\n",
              "      filter: drop-shadow(0px 1px 2px rgba(0, 0, 0, 0.3));\n",
              "      fill: #FFFFFF;\n",
              "    }\n",
              "  </style>\n",
              "\n",
              "      <script>\n",
              "        const buttonEl =\n",
              "          document.querySelector('#df-b6ea5472-aaad-4860-b406-612dc2afa8b4 button.colab-df-convert');\n",
              "        buttonEl.style.display =\n",
              "          google.colab.kernel.accessAllowed ? 'block' : 'none';\n",
              "\n",
              "        async function convertToInteractive(key) {\n",
              "          const element = document.querySelector('#df-b6ea5472-aaad-4860-b406-612dc2afa8b4');\n",
              "          const dataTable =\n",
              "            await google.colab.kernel.invokeFunction('convertToInteractive',\n",
              "                                                     [key], {});\n",
              "          if (!dataTable) return;\n",
              "\n",
              "          const docLinkHtml = 'Like what you see? Visit the ' +\n",
              "            '<a target=\"_blank\" href=https://colab.research.google.com/notebooks/data_table.ipynb>data table notebook</a>'\n",
              "            + ' to learn more about interactive tables.';\n",
              "          element.innerHTML = '';\n",
              "          dataTable['output_type'] = 'display_data';\n",
              "          await google.colab.output.renderOutput(dataTable, element);\n",
              "          const docLink = document.createElement('div');\n",
              "          docLink.innerHTML = docLinkHtml;\n",
              "          element.appendChild(docLink);\n",
              "        }\n",
              "      </script>\n",
              "    </div>\n",
              "  </div>\n",
              "  "
            ]
          },
          "metadata": {},
          "execution_count": 52
        }
      ]
    },
    {
      "cell_type": "code",
      "source": [
        "plt.figure(figsize=(20,8))\n",
        "plt.scatter(wine_norm_pca.iloc[:,0] ,wine_norm_pca.iloc[:,1], c=wine_og.ClusterId_kmean_norm)\n",
        "\n",
        "plt.title('PCA plot in 2D')\n",
        "plt.xlabel('PC1')\n",
        "plt.ylabel('PC2')\n",
        "plt.show()"
      ],
      "metadata": {
        "colab": {
          "base_uri": "https://localhost:8080/",
          "height": 280
        },
        "id": "ILQXbsgG6uAY",
        "outputId": "761275e2-f734-4fd2-e6c6-42a7eafaf3ad"
      },
      "execution_count": 53,
      "outputs": [
        {
          "output_type": "display_data",
          "data": {
            "text/plain": [
              "<Figure size 1440x576 with 1 Axes>"
            ],
            "image/png": "[encoded data removed]"
          },
          "metadata": {
            "needs_background": "light"
          }
        }
      ]
    },
    {
      "cell_type": "code",
      "source": [
        "plt.figure(figsize=(20,8))\n",
        "plt.scatter(wine_norm_pca.iloc[:,0] , wine_norm_pca.iloc[:,1], c=wine_og.Type)\n",
        "plt.title('Original Clustering given by data')\n",
        "plt.xlabel('PC1')\n",
        "plt.ylabel('PC2')\n",
        "\n",
        "\n",
        "plt.figure(figsize=(20,8))\n",
        "\n",
        "plt.subplot(1,2,1)\n",
        "plt.scatter(wine_norm_pca.iloc[:,0] , wine_norm_pca.iloc[:,1], c=wine_og.ClusterId_hc_norm)\n",
        "plt.title('Hierarchical clustering on normalised PCs')\n",
        "plt.xlabel('PC1')\n",
        "plt.ylabel('PC2')\n",
        "\n",
        "plt.subplot(1,2,2)\n",
        "plt.scatter(wine_norm_pca.iloc[:,0] ,wine_norm_pca.iloc[:,1], c=wine_og.ClusterId_kmean_norm)\n",
        "plt.title('K means clustering on normalised PCs')\n",
        "plt.xlabel('PC1')\n",
        "plt.ylabel('PC2')\n",
        "\n",
        "plt.show"
      ],
      "metadata": {
        "colab": {
          "base_uri": "https://localhost:8080/",
          "height": 561
        },
        "id": "AFVNnR9r6y-y",
        "outputId": "35d81cc3-ba86-4ce8-fbf3-973fab9e5ad6"
      },
      "execution_count": 56,
      "outputs": [
        {
          "output_type": "execute_result",
          "data": {
            "text/plain": [
              "<function matplotlib.pyplot.show(*args, **kw)>"
            ]
          },
          "metadata": {},
          "execution_count": 56
        },
        {
          "output_type": "display_data",
          "data": {
            "text/plain": [
              "<Figure size 1440x576 with 1 Axes>"
            ],
            "image/png": "[encoded data removed]"
          },
          "metadata": {
            "needs_background": "light"
          }
        },
        {
          "output_type": "display_data",
          "data": {
            "text/plain": [
              "<Figure size 1440x576 with 2 Axes>"
            ],
            "image/png": "[encoded data removed]"
          },
          "metadata": {
            "needs_background": "light"
          }
        }
      ]
    },
    {
      "cell_type": "code",
      "source": [],
      "metadata": {
        "id": "HgBb7QVT7LHT"
      },
      "execution_count": null,
      "outputs": []
    }
  ]
}